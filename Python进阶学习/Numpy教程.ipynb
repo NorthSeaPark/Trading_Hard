{
 "cells": [
  {
   "cell_type": "markdown",
   "id": "761b11a4",
   "metadata": {},
   "source": [
    "## 构建数组"
   ]
  },
  {
   "cell_type": "markdown",
   "id": "6295ed9d",
   "metadata": {},
   "source": [
    "### 1. 蛮力构造法"
   ]
  },
  {
   "cell_type": "code",
   "execution_count": 1,
   "id": "e5dcf4af",
   "metadata": {},
   "outputs": [],
   "source": [
    "import numpy as np"
   ]
  },
  {
   "cell_type": "code",
   "execution_count": 3,
   "id": "964a0809",
   "metadata": {},
   "outputs": [
    {
     "data": {
      "text/plain": [
       "array([[1, 2, 3],\n",
       "       [4, 5, 6]])"
      ]
     },
     "execution_count": 3,
     "metadata": {},
     "output_type": "execute_result"
    }
   ],
   "source": [
    "# 使用np.array() 来创建数组\n",
    "a = np.array([[1,2,3],[4,5,6]])# 注意有两个中括号\n",
    "a"
   ]
  },
  {
   "cell_type": "code",
   "execution_count": 4,
   "id": "e6100a27",
   "metadata": {},
   "outputs": [
    {
     "data": {
      "text/plain": [
       "array([[4, 5, 6],\n",
       "       [7, 8, 9]], dtype=uint8)"
      ]
     },
     "execution_count": 4,
     "metadata": {},
     "output_type": "execute_result"
    }
   ],
   "source": [
    "# 也可以指定数据类型\n",
    "a = np.array([[4,5,6],[7,8,9]], dtype=np.uint8) # 创建2行3列的单字节无符号整型数组\n",
    "a"
   ]
  },
  {
   "cell_type": "markdown",
   "id": "e933063e",
   "metadata": {},
   "source": [
    "### 2. 特殊数值法"
   ]
  },
  {
   "cell_type": "markdown",
   "id": "d2f80727",
   "metadata": {},
   "source": [
    "<p>numpy.zeros(shape, dtype=float, order=‘C’)\n",
    "<p>numpy.ones(shape, dtype=float, order=‘C’)\n",
    "<p>numpy.empty(shape, dtype=float, order=‘C’)\n",
    "<p>numpy.eye(N, M=None, k=0, dtype=float, order='C’)"
   ]
  },
  {
   "cell_type": "code",
   "execution_count": 5,
   "id": "67550d69",
   "metadata": {},
   "outputs": [
    {
     "data": {
      "text/plain": [
       "array([[0., 0., 0.],\n",
       "       [0., 0., 0.]])"
      ]
     },
     "execution_count": 5,
     "metadata": {},
     "output_type": "execute_result"
    }
   ],
   "source": [
    "np.zeros((2,3))"
   ]
  },
  {
   "cell_type": "code",
   "execution_count": 8,
   "id": "29d4fe8c",
   "metadata": {},
   "outputs": [
    {
     "data": {
      "text/plain": [
       "array([[1, 1, 1],\n",
       "       [1, 1, 1]], dtype=uint8)"
      ]
     },
     "execution_count": 8,
     "metadata": {},
     "output_type": "execute_result"
    }
   ],
   "source": [
    "np.ones((2,3),dtype=np.uint8)"
   ]
  },
  {
   "cell_type": "code",
   "execution_count": 9,
   "id": "2ad10a04",
   "metadata": {},
   "outputs": [
    {
     "data": {
      "text/plain": [
       "array([[1., 1., 1.],\n",
       "       [1., 1., 1.]])"
      ]
     },
     "execution_count": 9,
     "metadata": {},
     "output_type": "execute_result"
    }
   ],
   "source": [
    "np.empty((2,3))"
   ]
  },
  {
   "cell_type": "code",
   "execution_count": 10,
   "id": "680d213b",
   "metadata": {},
   "outputs": [
    {
     "data": {
      "text/plain": [
       "array([[1., 0., 0.],\n",
       "       [0., 1., 0.],\n",
       "       [0., 0., 1.]])"
      ]
     },
     "execution_count": 10,
     "metadata": {},
     "output_type": "execute_result"
    }
   ],
   "source": [
    "np.eye(3)"
   ]
  },
  {
   "cell_type": "code",
   "execution_count": 11,
   "id": "c2772f41",
   "metadata": {},
   "outputs": [
    {
     "data": {
      "text/plain": [
       "array([[5, 5, 5, 5],\n",
       "       [5, 5, 5, 5],\n",
       "       [5, 5, 5, 5]], dtype=int8)"
      ]
     },
     "execution_count": 11,
     "metadata": {},
     "output_type": "execute_result"
    }
   ],
   "source": [
    "# 我们需要一个3行4列、初始值都是5的数组,需要用fill()函数\n",
    "a = np.empty((3,4), dtype=np.int8)\n",
    "a.fill(5)\n",
    "a"
   ]
  },
  {
   "cell_type": "markdown",
   "id": "c5379555",
   "metadata": {},
   "source": [
    "### 3. 随机数值法"
   ]
  },
  {
   "cell_type": "markdown",
   "id": "eb496ccc",
   "metadata": {},
   "source": [
    "<p>numpy.random.random(size=None)\n",
    "<p>numpy.random.randint(low, high=None, size=None, dtype=‘l’)\n",
    "<p>numpy.random.normal(loc=0.0, scale=1.0, size=None)"
   ]
  },
  {
   "cell_type": "code",
   "execution_count": 13,
   "id": "7edebe8e",
   "metadata": {},
   "outputs": [],
   "source": [
    "# [0, 1)区间内的随机fudian\n",
    "b = np.random.random(3)"
   ]
  },
  {
   "cell_type": "code",
   "execution_count": null,
   "id": "315eb89d",
   "metadata": {},
   "outputs": [],
   "source": []
  }
 ],
 "metadata": {
  "kernelspec": {
   "display_name": "Python 3",
   "language": "python",
   "name": "python3"
  },
  "language_info": {
   "codemirror_mode": {
    "name": "ipython",
    "version": 3
   },
   "file_extension": ".py",
   "mimetype": "text/x-python",
   "name": "python",
   "nbconvert_exporter": "python",
   "pygments_lexer": "ipython3",
   "version": "3.8.8"
  }
 },
 "nbformat": 4,
 "nbformat_minor": 5
}
