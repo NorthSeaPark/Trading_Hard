{
 "cells": [
  {
   "cell_type": "markdown",
   "id": "abe6a53a",
   "metadata": {},
   "source": [
    "## 构建数组"
   ]
  },
  {
   "cell_type": "markdown",
   "id": "7bf0d72c",
   "metadata": {},
   "source": [
    "### 1. 蛮力构造法"
   ]
  },
  {
   "cell_type": "code",
   "execution_count": 1,
   "id": "5293900d",
   "metadata": {},
   "outputs": [],
   "source": [
    "import numpy as np"
   ]
  },
  {
   "cell_type": "code",
   "execution_count": 3,
   "id": "4e7dc871",
   "metadata": {},
   "outputs": [
    {
     "data": {
      "text/plain": [
       "array([[1, 2, 3],\n",
       "       [4, 5, 6]])"
      ]
     },
     "execution_count": 3,
     "metadata": {},
     "output_type": "execute_result"
    }
   ],
   "source": [
    "# 使用np.array() 来创建数组\n",
    "a = np.array([[1,2,3],[4,5,6]])# 注意有两个中括号\n",
    "a"
   ]
  },
  {
   "cell_type": "code",
   "execution_count": 4,
   "id": "e43c0c25",
   "metadata": {},
   "outputs": [
    {
     "data": {
      "text/plain": [
       "array([[4, 5, 6],\n",
       "       [7, 8, 9]], dtype=uint8)"
      ]
     },
     "execution_count": 4,
     "metadata": {},
     "output_type": "execute_result"
    }
   ],
   "source": [
    "# 也可以指定数据类型\n",
    "a = np.array([[4,5,6],[7,8,9]], dtype=np.uint8) # 创建2行3列的单字节无符号整型数组\n",
    "a"
   ]
  },
  {
   "cell_type": "markdown",
   "id": "99fcef58",
   "metadata": {},
   "source": [
    "### 2. 特殊数值法"
   ]
  },
  {
   "cell_type": "markdown",
   "id": "dbeb7190",
   "metadata": {},
   "source": [
    "<p>numpy.zeros(shape, dtype=float, order=‘C’)\n",
    "<p>numpy.ones(shape, dtype=float, order=‘C’)\n",
    "<p>numpy.empty(shape, dtype=float, order=‘C’)\n",
    "<p>numpy.eye(N, M=None, k=0, dtype=float, order='C’)"
   ]
  },
  {
   "cell_type": "code",
   "execution_count": 5,
   "id": "5ead9e97",
   "metadata": {},
   "outputs": [
    {
     "data": {
      "text/plain": [
       "array([[0., 0., 0.],\n",
       "       [0., 0., 0.]])"
      ]
     },
     "execution_count": 5,
     "metadata": {},
     "output_type": "execute_result"
    }
   ],
   "source": [
    "np.zeros((2,3))"
   ]
  },
  {
   "cell_type": "code",
   "execution_count": 8,
   "id": "a6e4a072",
   "metadata": {},
   "outputs": [
    {
     "data": {
      "text/plain": [
       "array([[1, 1, 1],\n",
       "       [1, 1, 1]], dtype=uint8)"
      ]
     },
     "execution_count": 8,
     "metadata": {},
     "output_type": "execute_result"
    }
   ],
   "source": [
    "np.ones((2,3),dtype=np.uint8)"
   ]
  },
  {
   "cell_type": "code",
   "execution_count": 9,
   "id": "770fef8b",
   "metadata": {},
   "outputs": [
    {
     "data": {
      "text/plain": [
       "array([[1., 1., 1.],\n",
       "       [1., 1., 1.]])"
      ]
     },
     "execution_count": 9,
     "metadata": {},
     "output_type": "execute_result"
    }
   ],
   "source": [
    "np.empty((2,3))"
   ]
  },
  {
   "cell_type": "code",
   "execution_count": 10,
   "id": "9233940a",
   "metadata": {},
   "outputs": [
    {
     "data": {
      "text/plain": [
       "array([[1., 0., 0.],\n",
       "       [0., 1., 0.],\n",
       "       [0., 0., 1.]])"
      ]
     },
     "execution_count": 10,
     "metadata": {},
     "output_type": "execute_result"
    }
   ],
   "source": [
    "np.eye(3)"
   ]
  },
  {
   "cell_type": "code",
   "execution_count": 11,
   "id": "2f648f55",
   "metadata": {},
   "outputs": [
    {
     "data": {
      "text/plain": [
       "array([[5, 5, 5, 5],\n",
       "       [5, 5, 5, 5],\n",
       "       [5, 5, 5, 5]], dtype=int8)"
      ]
     },
     "execution_count": 11,
     "metadata": {},
     "output_type": "execute_result"
    }
   ],
   "source": [
    "# 我们需要一个3行4列、初始值都是5的数组,需要用fill()函数\n",
    "a = np.empty((3,4), dtype=np.int8)\n",
    "a.fill(5)\n",
    "a"
   ]
  },
  {
   "cell_type": "markdown",
   "id": "d0dcf8d6",
   "metadata": {},
   "source": [
    "### 3. 随机数值法"
   ]
  },
  {
   "cell_type": "markdown",
   "id": "adee7e89",
   "metadata": {},
   "source": [
    "<p>numpy.random.random(size=None)\n",
    "<p>numpy.random.randint(low, high=None, size=None, dtype=‘l’)\n",
    "<p>numpy.random.normal(loc=0.0, scale=1.0, size=None)"
   ]
  },
  {
   "cell_type": "code",
   "execution_count": 15,
   "id": "938f25df",
   "metadata": {},
   "outputs": [
    {
     "data": {
      "text/plain": [
       "array([0.089127  , 0.19925886, 0.58935649])"
      ]
     },
     "execution_count": 15,
     "metadata": {},
     "output_type": "execute_result"
    }
   ],
   "source": [
    "# [0, 1)区间内的随机浮点数\n",
    "b = np.random.random(3)\n",
    "b"
   ]
  },
  {
   "cell_type": "code",
   "execution_count": 16,
   "id": "460d61af",
   "metadata": {},
   "outputs": [
    {
     "data": {
      "text/plain": [
       "array([[0.13812049, 0.71422001, 0.18564692, 0.45866218],\n",
       "       [0.01888746, 0.52131715, 0.46067211, 0.03034669],\n",
       "       [0.07857931, 0.18268256, 0.10621968, 0.66884276]])"
      ]
     },
     "execution_count": 16,
     "metadata": {},
     "output_type": "execute_result"
    }
   ],
   "source": [
    "b = np.random.random((3, 4))\n",
    "b"
   ]
  },
  {
   "cell_type": "code",
   "execution_count": 17,
   "id": "b2659581",
   "metadata": {},
   "outputs": [
    {
     "data": {
      "text/plain": [
       "array([[9, 6, 6, 1, 3],\n",
       "       [1, 4, 6, 5, 5],\n",
       "       [9, 8, 3, 7, 3],\n",
       "       [8, 2, 1, 4, 2]])"
      ]
     },
     "execution_count": 17,
     "metadata": {},
     "output_type": "execute_result"
    }
   ],
   "source": [
    "# 生成整数\n",
    "np.random.randint(1,10,size=(4,5))"
   ]
  },
  {
   "cell_type": "markdown",
   "id": "989152b3",
   "metadata": {},
   "source": [
    "### 4. 定长分割法"
   ]
  },
  {
   "cell_type": "code",
   "execution_count": 18,
   "id": "35063ee8",
   "metadata": {},
   "outputs": [
    {
     "data": {
      "text/plain": [
       "array([0, 1, 2, 3, 4, 5, 6, 7])"
      ]
     },
     "execution_count": 18,
     "metadata": {},
     "output_type": "execute_result"
    }
   ],
   "source": [
    "np.arange(8)"
   ]
  },
  {
   "cell_type": "code",
   "execution_count": 19,
   "id": "34c8d45a",
   "metadata": {},
   "outputs": [
    {
     "data": {
      "text/plain": [
       "array([ 5,  6,  7,  8,  9, 10])"
      ]
     },
     "execution_count": 19,
     "metadata": {},
     "output_type": "execute_result"
    }
   ],
   "source": [
    "np.arange(5,11)"
   ]
  },
  {
   "cell_type": "code",
   "execution_count": 20,
   "id": "8f22778f",
   "metadata": {},
   "outputs": [
    {
     "data": {
      "text/plain": [
       "array([ 5.5,  7. ,  8.5, 10. ])"
      ]
     },
     "execution_count": 20,
     "metadata": {},
     "output_type": "execute_result"
    }
   ],
   "source": [
    "np.arange(5.5,11,1.5)"
   ]
  },
  {
   "cell_type": "code",
   "execution_count": 21,
   "id": "ef360577",
   "metadata": {},
   "outputs": [
    {
     "data": {
      "text/plain": [
       "array([[ 3,  4,  5,  6],\n",
       "       [ 7,  8,  9, 10],\n",
       "       [11, 12, 13, 14]])"
      ]
     },
     "execution_count": 21,
     "metadata": {},
     "output_type": "execute_result"
    }
   ],
   "source": [
    "np.arange(3,15).reshape(3,4)"
   ]
  },
  {
   "cell_type": "code",
   "execution_count": 23,
   "id": "c9250075",
   "metadata": {},
   "outputs": [
    {
     "data": {
      "text/plain": [
       "array([0.   , 1.125, 2.25 , 3.375, 4.5  ])"
      ]
     },
     "execution_count": 23,
     "metadata": {},
     "output_type": "execute_result"
    }
   ],
   "source": [
    "# linspace() 函数需要3个参数：一个起点、一个终点，一个返回元素的个数。\n",
    "np.linspace(0, 4.5, 5) # 0到4.5之间返回5个等距数值（包括0和4.5）"
   ]
  },
  {
   "cell_type": "markdown",
   "id": "4d30c2bc",
   "metadata": {},
   "source": [
    "### 构造复杂数组"
   ]
  },
  {
   "cell_type": "markdown",
   "id": "9674b57a",
   "metadata": {},
   "source": [
    "#### （1）重复构造法"
   ]
  },
  {
   "cell_type": "code",
   "execution_count": 24,
   "id": "9fa5e5f3",
   "metadata": {},
   "outputs": [
    {
     "data": {
      "text/plain": [
       "array([0, 0, 0, 1, 1, 1, 2, 2, 2, 3, 3, 3, 4, 4, 4])"
      ]
     },
     "execution_count": 24,
     "metadata": {},
     "output_type": "execute_result"
    }
   ],
   "source": [
    "a = np.arange(5)\n",
    "\n",
    "np.repeat(a,3) # 重复元素3次"
   ]
  },
  {
   "cell_type": "code",
   "execution_count": 25,
   "id": "131737ab",
   "metadata": {},
   "outputs": [
    {
     "data": {
      "text/plain": [
       "array([0, 1, 2, 3, 4, 0, 1, 2, 3, 4, 0, 1, 2, 3, 4])"
      ]
     },
     "execution_count": 25,
     "metadata": {},
     "output_type": "execute_result"
    }
   ],
   "source": [
    "np.tile(a,3) # 重复数组3次"
   ]
  },
  {
   "cell_type": "code",
   "execution_count": 27,
   "id": "ddaf86a8",
   "metadata": {},
   "outputs": [
    {
     "data": {
      "text/plain": [
       "array([[0, 1, 2],\n",
       "       [0, 1, 2],\n",
       "       [0, 1, 2],\n",
       "       [3, 4, 5],\n",
       "       [3, 4, 5],\n",
       "       [3, 4, 5]])"
      ]
     },
     "execution_count": 27,
     "metadata": {},
     "output_type": "execute_result"
    }
   ],
   "source": [
    "a = np.arange(6).reshape((2,3))\n",
    "\n",
    "np.repeat(a,3,axis=0)"
   ]
  },
  {
   "cell_type": "code",
   "execution_count": 28,
   "id": "608cb889",
   "metadata": {},
   "outputs": [
    {
     "data": {
      "text/plain": [
       "array([[0, 0, 0, 1, 1, 1, 2, 2, 2],\n",
       "       [3, 3, 3, 4, 4, 4, 5, 5, 5]])"
      ]
     },
     "execution_count": 28,
     "metadata": {},
     "output_type": "execute_result"
    }
   ],
   "source": [
    "np.repeat(a,3,axis=1)"
   ]
  },
  {
   "cell_type": "code",
   "execution_count": 29,
   "id": "5610cdbb",
   "metadata": {},
   "outputs": [
    {
     "data": {
      "text/plain": [
       "array([[0, 1, 2, 0, 1, 2, 0, 1, 2],\n",
       "       [3, 4, 5, 3, 4, 5, 3, 4, 5]])"
      ]
     },
     "execution_count": 29,
     "metadata": {},
     "output_type": "execute_result"
    }
   ],
   "source": [
    "np.tile(a,3)"
   ]
  },
  {
   "cell_type": "code",
   "execution_count": 30,
   "id": "f0831ad0",
   "metadata": {},
   "outputs": [
    {
     "data": {
      "text/plain": [
       "array([[0, 1, 2, 0, 1, 2, 0, 1, 2],\n",
       "       [3, 4, 5, 3, 4, 5, 3, 4, 5],\n",
       "       [0, 1, 2, 0, 1, 2, 0, 1, 2],\n",
       "       [3, 4, 5, 3, 4, 5, 3, 4, 5]])"
      ]
     },
     "execution_count": 30,
     "metadata": {},
     "output_type": "execute_result"
    }
   ],
   "source": [
    "np.tile(a,(2,3))"
   ]
  },
  {
   "cell_type": "markdown",
   "id": "5b4b0cb0",
   "metadata": {},
   "source": [
    "#### (2) 网格构造法"
   ]
  },
  {
   "cell_type": "code",
   "execution_count": 31,
   "id": "43541c76",
   "metadata": {},
   "outputs": [],
   "source": [
    "# 表示经纬度的表格\n",
    "lon = np.linspace(-180,180,37) # 网格精度为10°，共计37个经度点\n",
    "lat = np.linspace(-90,90,19) # 网格精度为10°，共计19个纬度点"
   ]
  },
  {
   "cell_type": "code",
   "execution_count": 33,
   "id": "6705affa",
   "metadata": {},
   "outputs": [
    {
     "data": {
      "text/plain": [
       "((37, 73), (37, 73))"
      ]
     },
     "execution_count": 33,
     "metadata": {},
     "output_type": "execute_result"
    }
   ],
   "source": [
    "lats, lons = np.mgrid[-90:91:5., -180:181:5.] # 网格精度为5°，网格shape为(37,73)\n",
    "lons.shape, lats.shape"
   ]
  },
  {
   "cell_type": "code",
   "execution_count": null,
   "id": "3345418e",
   "metadata": {},
   "outputs": [],
   "source": []
  }
 ],
 "metadata": {
  "kernelspec": {
   "display_name": "Python 3",
   "language": "python",
   "name": "python3"
  },
  "language_info": {
   "codemirror_mode": {
    "name": "ipython",
    "version": 3
   },
   "file_extension": ".py",
   "mimetype": "text/x-python",
   "name": "python",
   "nbconvert_exporter": "python",
   "pygments_lexer": "ipython3",
   "version": "3.8.8"
  }
 },
 "nbformat": 4,
 "nbformat_minor": 5
}
