{
 "cells": [
  {
   "cell_type": "code",
   "execution_count": 17,
   "metadata": {},
   "outputs": [],
   "source": [
    "#先把一些会用到的库进行导入\n",
    "#这些库大家都比较熟悉了\n",
    "#就不一一介绍了\n",
    "from time import time\n",
    "import pandas as pd\n",
    "import numpy as np\n",
    "from sklearn.feature_extraction.text import TfidfVectorizer\n",
    "from sklearn.model_selection import train_test_split\n",
    "import matplotlib.pyplot as plt\n",
    "import seaborn as sns"
   ]
  },
  {
   "cell_type": "code",
   "execution_count": 18,
   "metadata": {},
   "outputs": [
    {
     "data": {
      "text/plain": [
       "4607"
      ]
     },
     "execution_count": 18,
     "metadata": {},
     "output_type": "execute_result"
    }
   ],
   "source": [
    "#创建一个空列表，用来存储正面情绪的语料\n",
    "pos_corpus = []\n",
    "#打开positive.txt文件\n",
    "with open('positive.txt') as f:\n",
    "    #设置一个for循环\n",
    "    for sent in f:\n",
    "        #将文件中的文本每行为一个元素，添加到刚创建的空列表中\n",
    "        pos_corpus.append(sent.replace('\\n', ''))\n",
    "#检查列表中的元素数量\n",
    "len(pos_corpus)"
   ]
  },
  {
   "cell_type": "code",
   "execution_count": 19,
   "metadata": {},
   "outputs": [
    {
     "data": {
      "text/plain": [
       "['买入 长期 持有 沃森 生物 19条 简短 想法',\n",
       " '利好 出 还 涨',\n",
       " '线 战士 持 全安 牌 伟哥 火爆 进货 深交所 9月 17日 暂停 etf 融资 买入 etf 融资 余额 已 达到 证券 上市 流通 市值 每个 男人 都 一颗 王全安 心 王 后 深 男哥 私募 火爆 大战 伟哥 股 王全安 时代 召唤',\n",
       " '浙江 冬日 彻底 破位',\n",
       " '达安 基因 该涨']"
      ]
     },
     "execution_count": 19,
     "metadata": {},
     "output_type": "execute_result"
    }
   ],
   "source": [
    "#可以用下面的方法检查一下列表的前5条\n",
    "pos_corpus[:5]"
   ]
  },
  {
   "cell_type": "code",
   "execution_count": 20,
   "metadata": {},
   "outputs": [
    {
     "data": {
      "text/plain": [
       "4607"
      ]
     },
     "execution_count": 20,
     "metadata": {},
     "output_type": "execute_result"
    }
   ],
   "source": [
    "#创建一个空列表，用来存储负面情绪的语料\n",
    "neg_corpus = []\n",
    "#打开negtive.txt文件\n",
    "with open('negtive.txt') as f:\n",
    "    #设置一个for循环\n",
    "    for sent in f:\n",
    "        #将文件中的文本每行为一个元素，添加到刚创建的空列表中\n",
    "        neg_corpus.append(sent.replace('\\n',''))\n",
    "#检查列表中的元素数量\n",
    "len(neg_corpus)"
   ]
  },
  {
   "cell_type": "code",
   "execution_count": 21,
   "metadata": {},
   "outputs": [
    {
     "data": {
      "text/plain": [
       "['此股 垃圾 买 上套 nndnull 整个 上午 大 单 都 抛 基本上 跑 跑掉 下午 猛冲',\n",
       " '变绿',\n",
       " '明天 开盘 清仓 卖光 一文不值 弄 虚 造假 实际 巨亏 国农 最 明智 最 理智 决定',\n",
       " '资金 已经 出逃 融券 大胆 做空 跳水 走为上着 已 清仓 希望 18块 接回 今天 全部 卖 出 清仓 完 明天 大跌 清仓 坐等 3个 跌停 后 进货',\n",
       " '鬼 弄 金融 SB 顶 老贴 不累']"
      ]
     },
     "execution_count": 21,
     "metadata": {},
     "output_type": "execute_result"
    }
   ],
   "source": [
    "#检查一下列表的前5条\n",
    "neg_corpus[:5]"
   ]
  },
  {
   "cell_type": "code",
   "execution_count": 22,
   "metadata": {},
   "outputs": [
    {
     "data": {
      "text/html": [
       "<div>\n",
       "<style scoped>\n",
       "    .dataframe tbody tr th:only-of-type {\n",
       "        vertical-align: middle;\n",
       "    }\n",
       "\n",
       "    .dataframe tbody tr th {\n",
       "        vertical-align: top;\n",
       "    }\n",
       "\n",
       "    .dataframe thead th {\n",
       "        text-align: right;\n",
       "    }\n",
       "</style>\n",
       "<table border=\"1\" class=\"dataframe\">\n",
       "  <thead>\n",
       "    <tr style=\"text-align: right;\">\n",
       "      <th></th>\n",
       "      <th>text</th>\n",
       "      <th>polarity</th>\n",
       "    </tr>\n",
       "  </thead>\n",
       "  <tbody>\n",
       "    <tr>\n",
       "      <th>0</th>\n",
       "      <td>买入 长期 持有 沃森 生物 19条 简短 想法</td>\n",
       "      <td>1</td>\n",
       "    </tr>\n",
       "    <tr>\n",
       "      <th>1</th>\n",
       "      <td>利好 出 还 涨</td>\n",
       "      <td>1</td>\n",
       "    </tr>\n",
       "    <tr>\n",
       "      <th>2</th>\n",
       "      <td>线 战士 持 全安 牌 伟哥 火爆 进货 深交所 9月 17日 暂停 etf 融资 买入 e...</td>\n",
       "      <td>1</td>\n",
       "    </tr>\n",
       "    <tr>\n",
       "      <th>3</th>\n",
       "      <td>浙江 冬日 彻底 破位</td>\n",
       "      <td>1</td>\n",
       "    </tr>\n",
       "    <tr>\n",
       "      <th>4</th>\n",
       "      <td>达安 基因 该涨</td>\n",
       "      <td>1</td>\n",
       "    </tr>\n",
       "  </tbody>\n",
       "</table>\n",
       "</div>"
      ],
      "text/plain": [
       "                                                text  polarity\n",
       "0                           买入 长期 持有 沃森 生物 19条 简短 想法         1\n",
       "1                                           利好 出 还 涨         1\n",
       "2  线 战士 持 全安 牌 伟哥 火爆 进货 深交所 9月 17日 暂停 etf 融资 买入 e...         1\n",
       "3                                        浙江 冬日 彻底 破位         1\n",
       "4                                           达安 基因 该涨         1"
      ]
     },
     "execution_count": 22,
     "metadata": {},
     "output_type": "execute_result"
    }
   ],
   "source": [
    "#将正面情绪列表转化为DataFrame\n",
    "#列命名为text\n",
    "pos_df = pd.DataFrame(pos_corpus, columns = ['text'])\n",
    "#创建一个新的字段，命名为polarity，正面情绪语料全部标“1”\n",
    "pos_df['polarity'] = 1\n",
    "#检查是否成功\n",
    "pos_df.head()"
   ]
  },
  {
   "cell_type": "code",
   "execution_count": 23,
   "metadata": {},
   "outputs": [
    {
     "data": {
      "text/html": [
       "<div>\n",
       "<style scoped>\n",
       "    .dataframe tbody tr th:only-of-type {\n",
       "        vertical-align: middle;\n",
       "    }\n",
       "\n",
       "    .dataframe tbody tr th {\n",
       "        vertical-align: top;\n",
       "    }\n",
       "\n",
       "    .dataframe thead th {\n",
       "        text-align: right;\n",
       "    }\n",
       "</style>\n",
       "<table border=\"1\" class=\"dataframe\">\n",
       "  <thead>\n",
       "    <tr style=\"text-align: right;\">\n",
       "      <th></th>\n",
       "      <th>text</th>\n",
       "      <th>polarity</th>\n",
       "    </tr>\n",
       "  </thead>\n",
       "  <tbody>\n",
       "    <tr>\n",
       "      <th>0</th>\n",
       "      <td>此股 垃圾 买 上套 nndnull 整个 上午 大 单 都 抛 基本上 跑 跑掉 下午 猛冲</td>\n",
       "      <td>0</td>\n",
       "    </tr>\n",
       "    <tr>\n",
       "      <th>1</th>\n",
       "      <td>变绿</td>\n",
       "      <td>0</td>\n",
       "    </tr>\n",
       "    <tr>\n",
       "      <th>2</th>\n",
       "      <td>明天 开盘 清仓 卖光 一文不值 弄 虚 造假 实际 巨亏 国农 最 明智 最 理智 决定</td>\n",
       "      <td>0</td>\n",
       "    </tr>\n",
       "    <tr>\n",
       "      <th>3</th>\n",
       "      <td>资金 已经 出逃 融券 大胆 做空 跳水 走为上着 已 清仓 希望 18块 接回 今天 全部...</td>\n",
       "      <td>0</td>\n",
       "    </tr>\n",
       "    <tr>\n",
       "      <th>4</th>\n",
       "      <td>鬼 弄 金融 SB 顶 老贴 不累</td>\n",
       "      <td>0</td>\n",
       "    </tr>\n",
       "  </tbody>\n",
       "</table>\n",
       "</div>"
      ],
      "text/plain": [
       "                                                text  polarity\n",
       "0    此股 垃圾 买 上套 nndnull 整个 上午 大 单 都 抛 基本上 跑 跑掉 下午 猛冲         0\n",
       "1                                                 变绿         0\n",
       "2      明天 开盘 清仓 卖光 一文不值 弄 虚 造假 实际 巨亏 国农 最 明智 最 理智 决定         0\n",
       "3  资金 已经 出逃 融券 大胆 做空 跳水 走为上着 已 清仓 希望 18块 接回 今天 全部...         0\n",
       "4                                  鬼 弄 金融 SB 顶 老贴 不累         0"
      ]
     },
     "execution_count": 23,
     "metadata": {},
     "output_type": "execute_result"
    }
   ],
   "source": [
    "#将正面情绪列表转化为DataFrame\n",
    "#列命名为text\n",
    "neg_df = pd.DataFrame(neg_corpus, columns = ['text'])\n",
    "#创建一个新的字段，命名为polarity，正面情绪语料全部标“0”\n",
    "neg_df['polarity'] = 0\n",
    "#检查是否成功\n",
    "neg_df.head()"
   ]
  },
  {
   "cell_type": "code",
   "execution_count": 24,
   "metadata": {},
   "outputs": [
    {
     "data": {
      "image/png": "[encoded data removed]",
      "text/plain": [
       "<Figure size 432x288 with 1 Axes>"
      ]
     },
     "metadata": {
      "needs_background": "light"
     },
     "output_type": "display_data"
    }
   ],
   "source": [
    "#用pandas的concat方法就可以合并两个DataFrame\n",
    "#这里还要把原来的index去掉，并重设一个新的index\n",
    "df = pd.concat([pos_df, neg_df]).reset_index(drop=True)\n",
    "#为了查看是否合并成功，我们可以用seaborn的计数图来看下\n",
    "#标签0和标签1的数量\n",
    "sns.countplot(df['polarity'])\n",
    "#显示图像\n",
    "plt.show()"
   ]
  },
  {
   "cell_type": "code",
   "execution_count": 25,
   "metadata": {},
   "outputs": [
    {
     "data": {
      "text/plain": [
       "<9214x14503 sparse matrix of type '<class 'numpy.float64'>'\n",
       "\twith 56565 stored elements in Compressed Sparse Row format>"
      ]
     },
     "execution_count": 25,
     "metadata": {},
     "output_type": "execute_result"
    }
   ],
   "source": [
    "#使用数据集中的text作为特征\n",
    "X = df['text']\n",
    "#polarity作为标签\n",
    "y = df['polarity']\n",
    "#创建一个TfidfVectorizer的实例\n",
    "vectorizer = TfidfVectorizer()\n",
    "#使用Tfidf将文本转化为向量\n",
    "X = vectorizer.fit_transform(X)\n",
    "#看看特征长什么样子\n",
    "X"
   ]
  },
  {
   "cell_type": "code",
   "execution_count": 26,
   "metadata": {},
   "outputs": [
    {
     "data": {
      "text/plain": [
       "(6910, 14503)"
      ]
     },
     "execution_count": 26,
     "metadata": {},
     "output_type": "execute_result"
    }
   ],
   "source": [
    "#将数据集拆分为训练集和验证集\n",
    "#这里固定一下random_state为30\n",
    "#便于复现\n",
    "X_train, X_test, y_train, y_test =\\\n",
    "train_test_split(X,y,random_state = 30)\n",
    "#可以检查一下拆分\n",
    "X_train.shape"
   ]
  },
  {
   "cell_type": "code",
   "execution_count": 39,
   "metadata": {},
   "outputs": [
    {
     "name": "stdout",
     "output_type": "stream",
     "text": [
      "模型在验证集中的准确率为：0.86\n"
     ]
    }
   ],
   "source": [
    "#导入scikit-learn中的朴素贝叶斯\n",
    "from sklearn import naive_bayes\n",
    "#创建一个多项式朴素贝叶斯分类器\n",
    "clf = naive_bayes.MultinomialNB()\n",
    "#使用训练集训练模型\n",
    "clf.fit(X_train, y_train)\n",
    "#检查一下模型在验证集中的准确率\n",
    "print('模型在验证集中的准确率为：%.2f'%(clf.score(X_test, y_test)))"
   ]
  },
  {
   "cell_type": "code",
   "execution_count": 49,
   "metadata": {},
   "outputs": [
    {
     "data": {
      "text/plain": [
       "text        周二 跌停\n",
       "polarity        0\n",
       "Name: 5127, dtype: object"
      ]
     },
     "execution_count": 49,
     "metadata": {},
     "output_type": "execute_result"
    }
   ],
   "source": [
    "#我们抽取数据集中序号为5127的数据来看一下\n",
    "df.iloc[5127]"
   ]
  },
  {
   "cell_type": "code",
   "execution_count": 50,
   "metadata": {},
   "outputs": [
    {
     "name": "stdout",
     "output_type": "stream",
     "text": [
      "赶快清仓\n"
     ]
    }
   ],
   "source": [
    "#使用模型对矩阵中序号为5127的数据作出预测\n",
    "predict = clf.predict(X[5127])[0]\n",
    "#如果预测值为1\n",
    "if predict == 1:\n",
    "    #给出买入建议\n",
    "    print('快点买入')\n",
    "#否则给出卖出建议\n",
    "else:\n",
    "    print('赶快清仓')"
   ]
  },
  {
   "cell_type": "code",
   "execution_count": null,
   "metadata": {},
   "outputs": [],
   "source": []
  }
 ],
 "metadata": {
  "kernelspec": {
   "display_name": "Python 3",
   "language": "python",
   "name": "python3"
  },
  "language_info": {
   "codemirror_mode": {
    "name": "ipython",
    "version": 3
   },
   "file_extension": ".py",
   "mimetype": "text/x-python",
   "name": "python",
   "nbconvert_exporter": "python",
   "pygments_lexer": "ipython3",
   "version": "3.6.7"
  },
  "toc": {
   "base_numbering": 1,
   "nav_menu": {},
   "number_sections": false,
   "sideBar": true,
   "skip_h1_title": false,
   "title_cell": "MarkDown菜单",
   "title_sidebar": "Contents",
   "toc_cell": false,
   "toc_position": {},
   "toc_section_display": true,
   "toc_window_display": false
  }
 },
 "nbformat": 4,
 "nbformat_minor": 2
}
