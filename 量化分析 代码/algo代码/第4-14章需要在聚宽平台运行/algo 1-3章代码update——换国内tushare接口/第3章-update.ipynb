{
 "cells": [
  {
   "cell_type": "markdown",
   "metadata": {},
   "source": [
    "# 中国大陆地区的读者请注意！\n",
    "# 本章也换成了使用国内厂商的接口来获取数据"
   ]
  },
  {
   "cell_type": "code",
   "execution_count": 1,
   "metadata": {},
   "outputs": [],
   "source": [
    "#首先导入鸢尾花数据载入工具\n",
    "from sklearn.datasets import load_iris\n",
    "#导入KNN分类模型\n",
    "from sklearn.neighbors import KNeighborsClassifier\n",
    "#为了方便可视化，我们再导入matplotlib和seaborn\n",
    "import matplotlib.pyplot as plt\n",
    "import seaborn as sns"
   ]
  },
  {
   "cell_type": "code",
   "execution_count": 2,
   "metadata": {},
   "outputs": [
    {
     "data": {
      "text/plain": [
       "dict_keys(['data', 'target', 'frame', 'target_names', 'DESCR', 'feature_names', 'filename'])"
      ]
     },
     "execution_count": 2,
     "metadata": {},
     "output_type": "execute_result"
    }
   ],
   "source": [
    "#加载鸢尾花数据集，赋值给iris变量\n",
    "iris = load_iris()\n",
    "#查看数据集的键名\n",
    "iris.keys()"
   ]
  },
  {
   "cell_type": "code",
   "execution_count": 3,
   "metadata": {},
   "outputs": [
    {
     "data": {
      "text/plain": [
       "['sepal length (cm)',\n",
       " 'sepal width (cm)',\n",
       " 'petal length (cm)',\n",
       " 'petal width (cm)']"
      ]
     },
     "execution_count": 3,
     "metadata": {},
     "output_type": "execute_result"
    }
   ],
   "source": [
    "#查看数据集的特征名称\n",
    "iris.feature_names"
   ]
  },
  {
   "cell_type": "code",
   "execution_count": 4,
   "metadata": {},
   "outputs": [
    {
     "data": {
      "text/plain": [
       "array([0, 0, 0, 0, 0, 0, 0, 0, 0, 0, 0, 0, 0, 0, 0, 0, 0, 0, 0, 0, 0, 0,\n",
       "       0, 0, 0, 0, 0, 0, 0, 0, 0, 0, 0, 0, 0, 0, 0, 0, 0, 0, 0, 0, 0, 0,\n",
       "       0, 0, 0, 0, 0, 0, 1, 1, 1, 1, 1, 1, 1, 1, 1, 1, 1, 1, 1, 1, 1, 1,\n",
       "       1, 1, 1, 1, 1, 1, 1, 1, 1, 1, 1, 1, 1, 1, 1, 1, 1, 1, 1, 1, 1, 1,\n",
       "       1, 1, 1, 1, 1, 1, 1, 1, 1, 1, 1, 1, 2, 2, 2, 2, 2, 2, 2, 2, 2, 2,\n",
       "       2, 2, 2, 2, 2, 2, 2, 2, 2, 2, 2, 2, 2, 2, 2, 2, 2, 2, 2, 2, 2, 2,\n",
       "       2, 2, 2, 2, 2, 2, 2, 2, 2, 2, 2, 2, 2, 2, 2, 2, 2, 2])"
      ]
     },
     "execution_count": 4,
     "metadata": {},
     "output_type": "execute_result"
    }
   ],
   "source": [
    "#查看数据集中的样本分类\n",
    "iris.target"
   ]
  },
  {
   "cell_type": "code",
   "execution_count": 5,
   "metadata": {},
   "outputs": [
    {
     "data": {
      "text/plain": [
       "(150, 4)"
      ]
     },
     "execution_count": 5,
     "metadata": {},
     "output_type": "execute_result"
    }
   ],
   "source": [
    "#将样本的特征和标签分别赋值给X和y\n",
    "X, y = iris.data, iris.target\n",
    "#查看是否成功\n",
    "X.shape"
   ]
  },
  {
   "cell_type": "code",
   "execution_count": 6,
   "metadata": {},
   "outputs": [
    {
     "data": {
      "text/plain": [
       "(112, 4)"
      ]
     },
     "execution_count": 6,
     "metadata": {},
     "output_type": "execute_result"
    }
   ],
   "source": [
    "#导入数据集拆分工具\n",
    "from sklearn.model_selection import train_test_split\n",
    "#将X和y拆分为训练集与验证集\n",
    "X_train, X_test, y_train, y_test =\\\n",
    "train_test_split(X, y)\n",
    "#查看拆分情况\n",
    "X_train.shape"
   ]
  },
  {
   "cell_type": "code",
   "execution_count": 7,
   "metadata": {},
   "outputs": [
    {
     "name": "stdout",
     "output_type": "stream",
     "text": [
      "训练集准确率：0.97\n",
      "验证集准确率：0.97\n"
     ]
    }
   ],
   "source": [
    "#创建knn分类器,参数保持默认\n",
    "knn_clf = KNeighborsClassifier()\n",
    "#使用训练集拟合模型\n",
    "knn_clf.fit(X_train, y_train)\n",
    "#查看模型在训练集和验证集中的准确率\n",
    "print('训练集准确率：%.2f'%knn_clf.score(X_train, y_train))\n",
    "print('验证集准确率：%.2f'%knn_clf.score(X_test, y_test))"
   ]
  },
  {
   "cell_type": "code",
   "execution_count": 8,
   "metadata": {},
   "outputs": [
    {
     "data": {
      "text/plain": [
       "KNeighborsClassifier()"
      ]
     },
     "execution_count": 8,
     "metadata": {},
     "output_type": "execute_result"
    }
   ],
   "source": [
    "knn_clf"
   ]
  },
  {
   "cell_type": "code",
   "execution_count": 9,
   "metadata": {},
   "outputs": [
    {
     "data": {
      "text/plain": [
       "{'n_neighbors': 6}"
      ]
     },
     "execution_count": 9,
     "metadata": {},
     "output_type": "execute_result"
    }
   ],
   "source": [
    "#导入网格搜索\n",
    "from sklearn.model_selection import GridSearchCV\n",
    "#定义一个从1到10的n_neighbors\n",
    "n_neighbors = tuple(range(1,11,1))\n",
    "#创建网格搜索实例，estimator用KNN分类器\n",
    "#把刚刚定义的n_neighbors传入给param_grid参数\n",
    "#cv参数指交叉验证次数为5\n",
    "cv = GridSearchCV(estimator=KNeighborsClassifier(),\n",
    "                 param_grid = {'n_neighbors':n_neighbors},\n",
    "                 cv = 5)\n",
    "#使用网格搜索拟合数据集\n",
    "cv.fit(X,y)\n",
    "#查看最优参数\n",
    "cv.best_params_"
   ]
  },
  {
   "cell_type": "code",
   "execution_count": 10,
   "metadata": {},
   "outputs": [
    {
     "data": {
      "text/plain": [
       "(1, 2, 3, 4, 5, 6, 7, 8, 9, 10)"
      ]
     },
     "execution_count": 10,
     "metadata": {},
     "output_type": "execute_result"
    }
   ],
   "source": [
    "n_neighbors"
   ]
  },
  {
   "cell_type": "code",
   "execution_count": 11,
   "metadata": {},
   "outputs": [
    {
     "name": "stdout",
     "output_type": "stream",
     "text": [
      "训练集准确率：0.97\n",
      "验证集准确率：0.97\n"
     ]
    }
   ],
   "source": [
    "#创建knn分类器,n_neighbors设置为6\n",
    "knn_clf = KNeighborsClassifier(n_neighbors=6)\n",
    "#使用模型拟合训练集数据\n",
    "knn_clf.fit(X_train, y_train)\n",
    "#查看模型在训练集和验证集中的准确率\n",
    "print('训练集准确率：%.2f'%knn_clf.score(X_train, y_train))\n",
    "print('验证集准确率：%.2f'%knn_clf.score(X_test, y_test))"
   ]
  },
  {
   "cell_type": "code",
   "execution_count": 12,
   "metadata": {},
   "outputs": [
    {
     "data": {
      "text/plain": [
       "dict_keys(['data', 'target', 'feature_names', 'DESCR', 'filename'])"
      ]
     },
     "execution_count": 12,
     "metadata": {},
     "output_type": "execute_result"
    }
   ],
   "source": [
    "#载入波士顿房价数据集导入工具\n",
    "from sklearn.datasets import load_boston\n",
    "#将数据导入\n",
    "boston = load_boston()\n",
    "#查看数据集的键名\n",
    "boston.keys()"
   ]
  },
  {
   "cell_type": "code",
   "execution_count": 13,
   "metadata": {},
   "outputs": [
    {
     "data": {
      "text/plain": [
       "array(['CRIM', 'ZN', 'INDUS', 'CHAS', 'NOX', 'RM', 'AGE', 'DIS', 'RAD',\n",
       "       'TAX', 'PTRATIO', 'B', 'LSTAT'], dtype='<U7')"
      ]
     },
     "execution_count": 13,
     "metadata": {},
     "output_type": "execute_result"
    }
   ],
   "source": [
    "#查看样本的特征名称\n",
    "boston.feature_names"
   ]
  },
  {
   "cell_type": "code",
   "execution_count": 14,
   "metadata": {},
   "outputs": [
    {
     "data": {
      "text/plain": [
       "array([24. , 21.6, 34.7, 33.4, 36.2, 28.7, 22.9, 27.1, 16.5, 18.9])"
      ]
     },
     "execution_count": 14,
     "metadata": {},
     "output_type": "execute_result"
    }
   ],
   "source": [
    "#选取前十套房屋，查看售价\n",
    "boston.target[:10]"
   ]
  },
  {
   "cell_type": "code",
   "execution_count": 15,
   "metadata": {},
   "outputs": [
    {
     "data": {
      "text/plain": [
       "(379, 13)"
      ]
     },
     "execution_count": 15,
     "metadata": {},
     "output_type": "execute_result"
    }
   ],
   "source": [
    "#将样本特征和售价赋值给X，y\n",
    "X, y = boston.data, boston.target\n",
    "#使用train_test_split拆分为训练集和验证集\n",
    "X_train, X_test, y_train, y_test =\\\n",
    "train_test_split(X, y)\n",
    "#查看拆分的结果\n",
    "X_train.shape"
   ]
  },
  {
   "cell_type": "code",
   "execution_count": 16,
   "metadata": {},
   "outputs": [
    {
     "name": "stdout",
     "output_type": "stream",
     "text": [
      "训练集准确率：0.70\n",
      "验证集准确率：0.40\n"
     ]
    }
   ],
   "source": [
    "#导入KNN回归算法\n",
    "from sklearn.neighbors import KNeighborsRegressor\n",
    "#创建一个实例，参数保持默认\n",
    "knn_reg = KNeighborsRegressor()\n",
    "#拟合训练集数据\n",
    "knn_reg.fit(X_train, y_train)\n",
    "#查看模型在训练集和验证集的性能表现\n",
    "print('训练集准确率：%.2f'%knn_reg.score(X_train, y_train))\n",
    "print('验证集准确率：%.2f'%knn_reg.score(X_test, y_test))"
   ]
  },
  {
   "cell_type": "code",
   "execution_count": 17,
   "metadata": {},
   "outputs": [
    {
     "data": {
      "text/plain": [
       "{'n_neighbors': 10}"
      ]
     },
     "execution_count": 17,
     "metadata": {},
     "output_type": "execute_result"
    }
   ],
   "source": [
    "#这次让n_neighbors参数从1到20遍历\n",
    "n_neighbors = tuple(range(1,21,1))\n",
    "#创建KNN回归的网格搜索实例\n",
    "cv_reg = GridSearchCV(estimator = KNeighborsRegressor(),\n",
    "                     param_grid = {'n_neighbors':n_neighbors},\n",
    "                     cv = 5)\n",
    "#用网格搜索拟合数据集\n",
    "cv_reg.fit(X, y)\n",
    "#返回最佳参数\n",
    "cv_reg.best_params_"
   ]
  },
  {
   "cell_type": "code",
   "execution_count": 18,
   "metadata": {},
   "outputs": [
    {
     "data": {
      "text/plain": [
       "0.9800000000000001"
      ]
     },
     "execution_count": 18,
     "metadata": {},
     "output_type": "execute_result"
    }
   ],
   "source": [
    "#查看最佳参数对应的最佳模型R平方分数\n",
    "cv.best_score_"
   ]
  },
  {
   "cell_type": "markdown",
   "metadata": {},
   "source": [
    "# 3.3.1 基于机器学习的简单交易策略"
   ]
  },
  {
   "cell_type": "code",
   "execution_count": 19,
   "metadata": {},
   "outputs": [],
   "source": [
    "#导入Pandas\n",
    "import pandas as pd\n",
    "#导入金融数据获取模块datareader\n",
    "import tushare as ts\n",
    "#导入numpy，一会儿会用到\n",
    "import numpy as np"
   ]
  },
  {
   "cell_type": "code",
   "execution_count": 40,
   "metadata": {},
   "outputs": [],
   "source": [
    "#首先我们来定义一个函数，用来获取数据\n",
    "#传入的三个参数分别是开始日期，结束日期和输出的文件名\n",
    "def load_stock(start_date, end_date, output_file):\n",
    "    #首先让程序尝试读取已下载并保存的文件\n",
    "    try:\n",
    "        df = pd.read_pickle(output_file)\n",
    "        #如果文件已存在，则打印载入股票数据文件完毕\n",
    "        print('载入股票数据文件完毕')\n",
    "    #如果没有找到文件，则重新进行下载\n",
    "    except FileNotFoundError:\n",
    "        print('文件未找到，重新下载中')\n",
    "        #这里制定下载中国平安（601318）的交易数据\n",
    "        #下载源为yahoo\n",
    "        df = ts.get_k_data('601318', start_date, end_date)\n",
    "        df = df.set_index('date')\n",
    "        #下载成功后保存为pickle文件\n",
    "        df.to_pickle(output_file)\n",
    "        #并通知我们下载完成\n",
    "        print('下载完成')\n",
    "    #最后将下载的数据表进行返回\n",
    "    return df"
   ]
  },
  {
   "cell_type": "code",
   "execution_count": 42,
   "metadata": {},
   "outputs": [
    {
     "name": "stdout",
     "output_type": "stream",
     "text": [
      "文件未找到，重新下载中\n",
      "本接口即将停止更新，请尽快使用Pro版接口：https://tushare.pro/document/2\n",
      "下载完成\n"
     ]
    }
   ],
   "source": [
    "#下面使用我们定义好的函数来获取中国平安的交易数据\n",
    "#获取三年的数据，从2017年3月9日至2020年的3月5日\n",
    "#保存为名为601318的pickle文件\n",
    "zgpa = load_stock(start_date = '2017-03-09', \n",
    "                  end_date = '2020-03-05',\n",
    "                 output_file = '601318.pkl')"
   ]
  },
  {
   "cell_type": "code",
   "execution_count": 43,
   "metadata": {},
   "outputs": [
    {
     "data": {
      "text/html": [
       "<div>\n",
       "<style scoped>\n",
       "    .dataframe tbody tr th:only-of-type {\n",
       "        vertical-align: middle;\n",
       "    }\n",
       "\n",
       "    .dataframe tbody tr th {\n",
       "        vertical-align: top;\n",
       "    }\n",
       "\n",
       "    .dataframe thead th {\n",
       "        text-align: right;\n",
       "    }\n",
       "</style>\n",
       "<table border=\"1\" class=\"dataframe\">\n",
       "  <thead>\n",
       "    <tr style=\"text-align: right;\">\n",
       "      <th></th>\n",
       "      <th>open</th>\n",
       "      <th>close</th>\n",
       "      <th>high</th>\n",
       "      <th>low</th>\n",
       "      <th>volume</th>\n",
       "      <th>code</th>\n",
       "    </tr>\n",
       "    <tr>\n",
       "      <th>date</th>\n",
       "      <th></th>\n",
       "      <th></th>\n",
       "      <th></th>\n",
       "      <th></th>\n",
       "      <th></th>\n",
       "      <th></th>\n",
       "    </tr>\n",
       "  </thead>\n",
       "  <tbody>\n",
       "    <tr>\n",
       "      <th>2017-03-09</th>\n",
       "      <td>26.692</td>\n",
       "      <td>26.702</td>\n",
       "      <td>26.722</td>\n",
       "      <td>26.422</td>\n",
       "      <td>377966.0</td>\n",
       "      <td>601318</td>\n",
       "    </tr>\n",
       "    <tr>\n",
       "      <th>2017-03-10</th>\n",
       "      <td>26.632</td>\n",
       "      <td>26.522</td>\n",
       "      <td>26.692</td>\n",
       "      <td>26.502</td>\n",
       "      <td>207446.0</td>\n",
       "      <td>601318</td>\n",
       "    </tr>\n",
       "    <tr>\n",
       "      <th>2017-03-13</th>\n",
       "      <td>26.522</td>\n",
       "      <td>26.892</td>\n",
       "      <td>26.962</td>\n",
       "      <td>26.482</td>\n",
       "      <td>359990.0</td>\n",
       "      <td>601318</td>\n",
       "    </tr>\n",
       "    <tr>\n",
       "      <th>2017-03-14</th>\n",
       "      <td>26.912</td>\n",
       "      <td>26.862</td>\n",
       "      <td>27.052</td>\n",
       "      <td>26.732</td>\n",
       "      <td>276964.0</td>\n",
       "      <td>601318</td>\n",
       "    </tr>\n",
       "    <tr>\n",
       "      <th>2017-03-15</th>\n",
       "      <td>26.802</td>\n",
       "      <td>26.882</td>\n",
       "      <td>26.922</td>\n",
       "      <td>26.682</td>\n",
       "      <td>268720.0</td>\n",
       "      <td>601318</td>\n",
       "    </tr>\n",
       "  </tbody>\n",
       "</table>\n",
       "</div>"
      ],
      "text/plain": [
       "              open   close    high     low    volume    code\n",
       "date                                                        \n",
       "2017-03-09  26.692  26.702  26.722  26.422  377966.0  601318\n",
       "2017-03-10  26.632  26.522  26.692  26.502  207446.0  601318\n",
       "2017-03-13  26.522  26.892  26.962  26.482  359990.0  601318\n",
       "2017-03-14  26.912  26.862  27.052  26.732  276964.0  601318\n",
       "2017-03-15  26.802  26.882  26.922  26.682  268720.0  601318"
      ]
     },
     "execution_count": 43,
     "metadata": {},
     "output_type": "execute_result"
    }
   ],
   "source": [
    "#查看一下数据的前五行\n",
    "zgpa.head()"
   ]
  },
  {
   "cell_type": "code",
   "execution_count": 44,
   "metadata": {},
   "outputs": [],
   "source": [
    "#下面我们来定义一个用于分类的函数，给数据表增加三个字段\n",
    "#首先是开盘价减收盘价，命名为‘Open-Close’\n",
    "#其次是最高价减最低价，命名为‘High-Low’\n",
    "def classification_tc(df):\n",
    "    df['Open-Close'] = df['open'] - df['close']\n",
    "    df['High-Low'] = df['high'] - df['low']\n",
    "    #在添加一个target字段，如果次日收盘价高于当日收盘价，则标记为1，反之为-1\n",
    "    df['target'] = np.where(df['close'].shift(-1)>df['close'], 1, -1)\n",
    "    #去掉有空值的行\n",
    "    df = df.dropna()\n",
    "    #将‘Open-Close’和‘High-Low’作为数据集的特征\n",
    "    X = df[['Open-Close', 'High-Low']]\n",
    "    #将target赋值给y\n",
    "    y = df['target']\n",
    "    #将处理好的数据表以及X与y进行返回\n",
    "    return(df,X,y)"
   ]
  },
  {
   "cell_type": "code",
   "execution_count": 45,
   "metadata": {},
   "outputs": [],
   "source": [
    "#下面定义一个用于回归的函数\n",
    "#特征的添加和分类函数类似\n",
    "#只不过target字段改为次日收盘价减去当日收盘价\n",
    "def regression_tc(df):\n",
    "    df['Open-Close'] = df['open'] - df['close']\n",
    "    df['High-Low'] = df['high'] - df['low']\n",
    "    df['target'] = df['close'].shift(-1) - df['close']\n",
    "    df = df.dropna()\n",
    "    X = df[['Open-Close', 'High-Low']]\n",
    "    y = df['target']\n",
    "    #将处理好的数据表以及X与y进行返回\n",
    "    return(df,X,y)"
   ]
  },
  {
   "cell_type": "code",
   "execution_count": 105,
   "metadata": {},
   "outputs": [],
   "source": [
    "#使用classification_tc函数生成数据集的特征与目标\n",
    "df, X, y = classification_tc(zgpa)\n",
    "#将数据集拆分为训练集与验证集\n",
    "X_train, X_test, y_train, y_test =\\\n",
    "train_test_split(X, y, shuffle=False,train_size=0.8)"
   ]
  },
  {
   "cell_type": "code",
   "execution_count": 106,
   "metadata": {},
   "outputs": [
    {
     "data": {
      "text/html": [
       "<div>\n",
       "<style scoped>\n",
       "    .dataframe tbody tr th:only-of-type {\n",
       "        vertical-align: middle;\n",
       "    }\n",
       "\n",
       "    .dataframe tbody tr th {\n",
       "        vertical-align: top;\n",
       "    }\n",
       "\n",
       "    .dataframe thead th {\n",
       "        text-align: right;\n",
       "    }\n",
       "</style>\n",
       "<table border=\"1\" class=\"dataframe\">\n",
       "  <thead>\n",
       "    <tr style=\"text-align: right;\">\n",
       "      <th></th>\n",
       "      <th>open</th>\n",
       "      <th>close</th>\n",
       "      <th>high</th>\n",
       "      <th>low</th>\n",
       "      <th>volume</th>\n",
       "      <th>code</th>\n",
       "      <th>Open-Close</th>\n",
       "      <th>High-Low</th>\n",
       "      <th>target</th>\n",
       "    </tr>\n",
       "    <tr>\n",
       "      <th>date</th>\n",
       "      <th></th>\n",
       "      <th></th>\n",
       "      <th></th>\n",
       "      <th></th>\n",
       "      <th></th>\n",
       "      <th></th>\n",
       "      <th></th>\n",
       "      <th></th>\n",
       "      <th></th>\n",
       "    </tr>\n",
       "  </thead>\n",
       "  <tbody>\n",
       "    <tr>\n",
       "      <th>2017-03-09</th>\n",
       "      <td>26.692</td>\n",
       "      <td>26.702</td>\n",
       "      <td>26.722</td>\n",
       "      <td>26.422</td>\n",
       "      <td>377966.0</td>\n",
       "      <td>601318</td>\n",
       "      <td>-0.01</td>\n",
       "      <td>0.30</td>\n",
       "      <td>-1</td>\n",
       "    </tr>\n",
       "    <tr>\n",
       "      <th>2017-03-10</th>\n",
       "      <td>26.632</td>\n",
       "      <td>26.522</td>\n",
       "      <td>26.692</td>\n",
       "      <td>26.502</td>\n",
       "      <td>207446.0</td>\n",
       "      <td>601318</td>\n",
       "      <td>0.11</td>\n",
       "      <td>0.19</td>\n",
       "      <td>1</td>\n",
       "    </tr>\n",
       "    <tr>\n",
       "      <th>2017-03-13</th>\n",
       "      <td>26.522</td>\n",
       "      <td>26.892</td>\n",
       "      <td>26.962</td>\n",
       "      <td>26.482</td>\n",
       "      <td>359990.0</td>\n",
       "      <td>601318</td>\n",
       "      <td>-0.37</td>\n",
       "      <td>0.48</td>\n",
       "      <td>-1</td>\n",
       "    </tr>\n",
       "    <tr>\n",
       "      <th>2017-03-14</th>\n",
       "      <td>26.912</td>\n",
       "      <td>26.862</td>\n",
       "      <td>27.052</td>\n",
       "      <td>26.732</td>\n",
       "      <td>276964.0</td>\n",
       "      <td>601318</td>\n",
       "      <td>0.05</td>\n",
       "      <td>0.32</td>\n",
       "      <td>1</td>\n",
       "    </tr>\n",
       "    <tr>\n",
       "      <th>2017-03-15</th>\n",
       "      <td>26.802</td>\n",
       "      <td>26.882</td>\n",
       "      <td>26.922</td>\n",
       "      <td>26.682</td>\n",
       "      <td>268720.0</td>\n",
       "      <td>601318</td>\n",
       "      <td>-0.08</td>\n",
       "      <td>0.24</td>\n",
       "      <td>1</td>\n",
       "    </tr>\n",
       "  </tbody>\n",
       "</table>\n",
       "</div>"
      ],
      "text/plain": [
       "              open   close    high     low    volume    code  Open-Close  \\\n",
       "date                                                                       \n",
       "2017-03-09  26.692  26.702  26.722  26.422  377966.0  601318       -0.01   \n",
       "2017-03-10  26.632  26.522  26.692  26.502  207446.0  601318        0.11   \n",
       "2017-03-13  26.522  26.892  26.962  26.482  359990.0  601318       -0.37   \n",
       "2017-03-14  26.912  26.862  27.052  26.732  276964.0  601318        0.05   \n",
       "2017-03-15  26.802  26.882  26.922  26.682  268720.0  601318       -0.08   \n",
       "\n",
       "            High-Low  target  \n",
       "date                          \n",
       "2017-03-09      0.30      -1  \n",
       "2017-03-10      0.19       1  \n",
       "2017-03-13      0.48      -1  \n",
       "2017-03-14      0.32       1  \n",
       "2017-03-15      0.24       1  "
      ]
     },
     "execution_count": 106,
     "metadata": {},
     "output_type": "execute_result"
    }
   ],
   "source": [
    "df.head()"
   ]
  },
  {
   "cell_type": "code",
   "execution_count": 107,
   "metadata": {},
   "outputs": [
    {
     "name": "stdout",
     "output_type": "stream",
     "text": [
      "0.5643224699828473\n",
      "0.4863013698630137\n"
     ]
    }
   ],
   "source": [
    "#创建一个knn实例，n_neighbors取95\n",
    "knn_clf = KNeighborsClassifier(n_neighbors=95)\n",
    "#使用knn拟合训练集\n",
    "knn_clf.fit(X_train, y_train)\n",
    "#打印模型在训练集中的准确率\n",
    "print(knn_clf.score(X_train, y_train))\n",
    "#打印模型在验证集中的准确率\n",
    "print(knn_clf.score(X_test, y_test))"
   ]
  },
  {
   "cell_type": "code",
   "execution_count": 108,
   "metadata": {},
   "outputs": [
    {
     "data": {
      "text/html": [
       "<div>\n",
       "<style scoped>\n",
       "    .dataframe tbody tr th:only-of-type {\n",
       "        vertical-align: middle;\n",
       "    }\n",
       "\n",
       "    .dataframe tbody tr th {\n",
       "        vertical-align: top;\n",
       "    }\n",
       "\n",
       "    .dataframe thead th {\n",
       "        text-align: right;\n",
       "    }\n",
       "</style>\n",
       "<table border=\"1\" class=\"dataframe\">\n",
       "  <thead>\n",
       "    <tr style=\"text-align: right;\">\n",
       "      <th></th>\n",
       "      <th>open</th>\n",
       "      <th>close</th>\n",
       "      <th>high</th>\n",
       "      <th>low</th>\n",
       "      <th>volume</th>\n",
       "      <th>code</th>\n",
       "      <th>Open-Close</th>\n",
       "      <th>High-Low</th>\n",
       "      <th>target</th>\n",
       "      <th>Predict_Signal</th>\n",
       "      <th>Return</th>\n",
       "    </tr>\n",
       "    <tr>\n",
       "      <th>date</th>\n",
       "      <th></th>\n",
       "      <th></th>\n",
       "      <th></th>\n",
       "      <th></th>\n",
       "      <th></th>\n",
       "      <th></th>\n",
       "      <th></th>\n",
       "      <th></th>\n",
       "      <th></th>\n",
       "      <th></th>\n",
       "      <th></th>\n",
       "    </tr>\n",
       "  </thead>\n",
       "  <tbody>\n",
       "    <tr>\n",
       "      <th>2017-03-09</th>\n",
       "      <td>26.692</td>\n",
       "      <td>26.702</td>\n",
       "      <td>26.722</td>\n",
       "      <td>26.422</td>\n",
       "      <td>377966.0</td>\n",
       "      <td>601318</td>\n",
       "      <td>-0.01</td>\n",
       "      <td>0.30</td>\n",
       "      <td>-1</td>\n",
       "      <td>1</td>\n",
       "      <td>NaN</td>\n",
       "    </tr>\n",
       "    <tr>\n",
       "      <th>2017-03-10</th>\n",
       "      <td>26.632</td>\n",
       "      <td>26.522</td>\n",
       "      <td>26.692</td>\n",
       "      <td>26.502</td>\n",
       "      <td>207446.0</td>\n",
       "      <td>601318</td>\n",
       "      <td>0.11</td>\n",
       "      <td>0.19</td>\n",
       "      <td>1</td>\n",
       "      <td>1</td>\n",
       "      <td>-0.006764</td>\n",
       "    </tr>\n",
       "    <tr>\n",
       "      <th>2017-03-13</th>\n",
       "      <td>26.522</td>\n",
       "      <td>26.892</td>\n",
       "      <td>26.962</td>\n",
       "      <td>26.482</td>\n",
       "      <td>359990.0</td>\n",
       "      <td>601318</td>\n",
       "      <td>-0.37</td>\n",
       "      <td>0.48</td>\n",
       "      <td>-1</td>\n",
       "      <td>1</td>\n",
       "      <td>0.013854</td>\n",
       "    </tr>\n",
       "    <tr>\n",
       "      <th>2017-03-14</th>\n",
       "      <td>26.912</td>\n",
       "      <td>26.862</td>\n",
       "      <td>27.052</td>\n",
       "      <td>26.732</td>\n",
       "      <td>276964.0</td>\n",
       "      <td>601318</td>\n",
       "      <td>0.05</td>\n",
       "      <td>0.32</td>\n",
       "      <td>1</td>\n",
       "      <td>1</td>\n",
       "      <td>-0.001116</td>\n",
       "    </tr>\n",
       "    <tr>\n",
       "      <th>2017-03-15</th>\n",
       "      <td>26.802</td>\n",
       "      <td>26.882</td>\n",
       "      <td>26.922</td>\n",
       "      <td>26.682</td>\n",
       "      <td>268720.0</td>\n",
       "      <td>601318</td>\n",
       "      <td>-0.08</td>\n",
       "      <td>0.24</td>\n",
       "      <td>1</td>\n",
       "      <td>1</td>\n",
       "      <td>0.000744</td>\n",
       "    </tr>\n",
       "  </tbody>\n",
       "</table>\n",
       "</div>"
      ],
      "text/plain": [
       "              open   close    high     low    volume    code  Open-Close  \\\n",
       "date                                                                       \n",
       "2017-03-09  26.692  26.702  26.722  26.422  377966.0  601318       -0.01   \n",
       "2017-03-10  26.632  26.522  26.692  26.502  207446.0  601318        0.11   \n",
       "2017-03-13  26.522  26.892  26.962  26.482  359990.0  601318       -0.37   \n",
       "2017-03-14  26.912  26.862  27.052  26.732  276964.0  601318        0.05   \n",
       "2017-03-15  26.802  26.882  26.922  26.682  268720.0  601318       -0.08   \n",
       "\n",
       "            High-Low  target  Predict_Signal    Return  \n",
       "date                                                    \n",
       "2017-03-09      0.30      -1               1       NaN  \n",
       "2017-03-10      0.19       1               1 -0.006764  \n",
       "2017-03-13      0.48      -1               1  0.013854  \n",
       "2017-03-14      0.32       1               1 -0.001116  \n",
       "2017-03-15      0.24       1               1  0.000744  "
      ]
     },
     "execution_count": 108,
     "metadata": {},
     "output_type": "execute_result"
    }
   ],
   "source": [
    "#使用KNN模型预测每日股票的涨跌，保存为‘Predict_Signal’\n",
    "df['Predict_Signal'] = knn_clf.predict(X)\n",
    "#在数据集中添加一个字段，用当日收盘价除以前一日收盘价，并取其自然对数\n",
    "df['Return'] = np.log(df['close']/df['close'].shift(1))\n",
    "#查看一下\n",
    "df.head()"
   ]
  },
  {
   "cell_type": "code",
   "execution_count": 109,
   "metadata": {},
   "outputs": [],
   "source": [
    "#定义一个计算累计回报的函数\n",
    "def cum_return(df, split_value):\n",
    "    #该股票基准收益为‘Return’的总和*100\n",
    "    cum_return = df[split_value:]['Return'].cumsum()*100\n",
    "    #将计算结果进行返回\n",
    "    return cum_return"
   ]
  },
  {
   "cell_type": "code",
   "execution_count": 110,
   "metadata": {},
   "outputs": [],
   "source": [
    "#再定义一个计算使用策略交易的收益\n",
    "def strategy_return(df, split_value):\n",
    "    #使用策略交易的收益为模型‘zgpa_Return’乘以模型预测的涨跌幅\n",
    "    df['Strategy_Return'] = df['Return']*df['Predict_Signal'].shift(1)\n",
    "    #将每日策略交易的收益加和并乘以100\n",
    "    cum_strategy_return = df[split_value:]['Strategy_Return'].cumsum()*100\n",
    "    #将计算结果进行返回\n",
    "    return cum_strategy_return"
   ]
  },
  {
   "cell_type": "code",
   "execution_count": 111,
   "metadata": {},
   "outputs": [],
   "source": [
    "#定义一个绘图函数，用来对比基准收益和算法交易的收益\n",
    "def plot_chart(cum_return, cum_strategy_return, symbol):\n",
    "    #首先是定义画布的尺寸\n",
    "    plt.figure(figsize=(9,6))\n",
    "    #使用折线图绘制基准收益\n",
    "    plt.plot(cum_return, '--',label='%s Returns'%symbol)\n",
    "    #使用折线图绘制算法交易收益\n",
    "    plt.plot(cum_strategy_return, label = 'Strategy Returns')\n",
    "    #添加图注\n",
    "    plt.legend()\n",
    "    plt.xticks([0,36,72,108,145])\n",
    "    #显示图像\n",
    "    plt.show()"
   ]
  },
  {
   "cell_type": "code",
   "execution_count": 112,
   "metadata": {},
   "outputs": [
    {
     "data": {
      "image/png": "[encoded data removed]",
      "text/plain": [
       "<Figure size 648x432 with 1 Axes>"
      ]
     },
     "metadata": {
      "needs_background": "light"
     },
     "output_type": "display_data"
    }
   ],
   "source": [
    "#首先来计算基准收益（预测集）\n",
    "cum_return = cum_return(df, split_value=len(X_train))\n",
    "#然后是计算使用算法交易带来的收益（同样只计算预测集）\n",
    "cum_strategy_return = strategy_return(df, \n",
    "                                      split_value=len(X_train))\n",
    "#用图像来进行对比\n",
    "plot_chart(cum_return, cum_strategy_return, 'zgpa')"
   ]
  }
 ],
 "metadata": {
  "kernelspec": {
   "display_name": "Python 3",
   "language": "python",
   "name": "python3"
  },
  "language_info": {
   "codemirror_mode": {
    "name": "ipython",
    "version": 3
   },
   "file_extension": ".py",
   "mimetype": "text/x-python",
   "name": "python",
   "nbconvert_exporter": "python",
   "pygments_lexer": "ipython3",
   "version": "3.8.5"
  }
 },
 "nbformat": 4,
 "nbformat_minor": 4
}
