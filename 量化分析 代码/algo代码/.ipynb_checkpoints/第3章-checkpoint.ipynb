{
 "cells": [
  {
   "cell_type": "code",
   "execution_count": 1,
   "metadata": {
    "collapsed": true
   },
   "outputs": [],
   "source": [
    "#首先导入鸢尾花数据载入工具\n",
    "from sklearn.datasets import load_iris\n",
    "#导入KNN分类模型\n",
    "from sklearn.neighbors import KNeighborsClassifier\n",
    "#为了方便可视化，我们再导入matplotlib和seaborn\n",
    "import matplotlib.pyplot as plt\n",
    "import seaborn as sns"
   ]
  },
  {
   "cell_type": "code",
   "execution_count": 4,
   "metadata": {},
   "outputs": [
    {
     "data": {
      "text/plain": [
       "dict_keys(['data', 'target', 'target_names', 'DESCR', 'feature_names', 'filename'])"
      ]
     },
     "execution_count": 4,
     "metadata": {},
     "output_type": "execute_result"
    }
   ],
   "source": [
    "#加载鸢尾花数据集，赋值给iris变量\n",
    "iris = load_iris()\n",
    "#查看数据集的键名\n",
    "iris.keys()"
   ]
  },
  {
   "cell_type": "code",
   "execution_count": 7,
   "metadata": {},
   "outputs": [
    {
     "data": {
      "text/plain": [
       "['sepal length (cm)',\n",
       " 'sepal width (cm)',\n",
       " 'petal length (cm)',\n",
       " 'petal width (cm)']"
      ]
     },
     "execution_count": 7,
     "metadata": {},
     "output_type": "execute_result"
    }
   ],
   "source": [
    "#查看数据集的特征名称\n",
    "iris.feature_names"
   ]
  },
  {
   "cell_type": "code",
   "execution_count": 6,
   "metadata": {},
   "outputs": [
    {
     "data": {
      "text/plain": [
       "array([0, 0, 0, 0, 0, 0, 0, 0, 0, 0, 0, 0, 0, 0, 0, 0, 0, 0, 0, 0, 0, 0,\n",
       "       0, 0, 0, 0, 0, 0, 0, 0, 0, 0, 0, 0, 0, 0, 0, 0, 0, 0, 0, 0, 0, 0,\n",
       "       0, 0, 0, 0, 0, 0, 1, 1, 1, 1, 1, 1, 1, 1, 1, 1, 1, 1, 1, 1, 1, 1,\n",
       "       1, 1, 1, 1, 1, 1, 1, 1, 1, 1, 1, 1, 1, 1, 1, 1, 1, 1, 1, 1, 1, 1,\n",
       "       1, 1, 1, 1, 1, 1, 1, 1, 1, 1, 1, 1, 2, 2, 2, 2, 2, 2, 2, 2, 2, 2,\n",
       "       2, 2, 2, 2, 2, 2, 2, 2, 2, 2, 2, 2, 2, 2, 2, 2, 2, 2, 2, 2, 2, 2,\n",
       "       2, 2, 2, 2, 2, 2, 2, 2, 2, 2, 2, 2, 2, 2, 2, 2, 2, 2])"
      ]
     },
     "execution_count": 6,
     "metadata": {},
     "output_type": "execute_result"
    }
   ],
   "source": [
    "#查看数据集中的样本分类\n",
    "iris.target"
   ]
  },
  {
   "cell_type": "code",
   "execution_count": 10,
   "metadata": {},
   "outputs": [
    {
     "data": {
      "text/plain": [
       "(150, 4)"
      ]
     },
     "execution_count": 10,
     "metadata": {},
     "output_type": "execute_result"
    }
   ],
   "source": [
    "#将样本的特征和标签分别赋值给X和y\n",
    "X, y = iris.data, iris.target\n",
    "#查看是否成功\n",
    "X.shape"
   ]
  },
  {
   "cell_type": "code",
   "execution_count": 11,
   "metadata": {},
   "outputs": [
    {
     "data": {
      "text/plain": [
       "(112, 4)"
      ]
     },
     "execution_count": 11,
     "metadata": {},
     "output_type": "execute_result"
    }
   ],
   "source": [
    "#导入数据集拆分工具\n",
    "from sklearn.model_selection import train_test_split\n",
    "#将X和y拆分为训练集与验证集\n",
    "X_train, X_test, y_train, y_test =\\\n",
    "train_test_split(X, y)\n",
    "#查看拆分情况\n",
    "X_train.shape"
   ]
  },
  {
   "cell_type": "code",
   "execution_count": 14,
   "metadata": {},
   "outputs": [
    {
     "name": "stdout",
     "output_type": "stream",
     "text": [
      "训练集准确率：0.98\n",
      "验证集准确率：0.95\n"
     ]
    }
   ],
   "source": [
    "#创建knn分类器,参数保持默认\n",
    "knn_clf = KNeighborsClassifier()\n",
    "#使用训练集拟合模型\n",
    "knn_clf.fit(X_train, y_train)\n",
    "#查看模型在训练集和验证集中的准确率\n",
    "print('训练集准确率：%.2f'%knn_clf.score(X_train, y_train))\n",
    "print('验证集准确率：%.2f'%knn_clf.score(X_test, y_test))"
   ]
  },
  {
   "cell_type": "code",
   "execution_count": 15,
   "metadata": {},
   "outputs": [
    {
     "data": {
      "text/plain": [
       "KNeighborsClassifier(algorithm='auto', leaf_size=30, metric='minkowski',\n",
       "                     metric_params=None, n_jobs=None, n_neighbors=5, p=2,\n",
       "                     weights='uniform')"
      ]
     },
     "execution_count": 15,
     "metadata": {},
     "output_type": "execute_result"
    }
   ],
   "source": [
    "knn_clf"
   ]
  },
  {
   "cell_type": "code",
   "execution_count": 29,
   "metadata": {},
   "outputs": [
    {
     "data": {
      "text/plain": [
       "{'n_neighbors': 6}"
      ]
     },
     "execution_count": 29,
     "metadata": {},
     "output_type": "execute_result"
    }
   ],
   "source": [
    "#导入网格搜索\n",
    "from sklearn.model_selection import GridSearchCV\n",
    "#定义一个从1到10的n_neighbors\n",
    "n_neighbors = tuple(range(1,11,1))\n",
    "#创建网格搜索实例，estimator用KNN分类器\n",
    "#把刚刚定义的n_neighbors传入给param_grid参数\n",
    "#cv参数指交叉验证次数为5\n",
    "cv = GridSearchCV(estimator=KNeighborsClassifier(),\n",
    "                 param_grid = {'n_neighbors':n_neighbors},\n",
    "                 cv = 5)\n",
    "#使用网格搜索拟合数据集\n",
    "cv.fit(X,y)\n",
    "#查看最优参数\n",
    "cv.best_params_"
   ]
  },
  {
   "cell_type": "code",
   "execution_count": 26,
   "metadata": {},
   "outputs": [
    {
     "data": {
      "text/plain": [
       "(1, 2, 3, 4, 5, 6, 7, 8, 9, 10)"
      ]
     },
     "execution_count": 26,
     "metadata": {},
     "output_type": "execute_result"
    }
   ],
   "source": [
    "n_neighbors"
   ]
  },
  {
   "cell_type": "code",
   "execution_count": 32,
   "metadata": {},
   "outputs": [
    {
     "name": "stdout",
     "output_type": "stream",
     "text": [
      "训练集准确率：0.99\n",
      "验证集准确率：0.95\n"
     ]
    }
   ],
   "source": [
    "#创建knn分类器,n_neighbors设置为6\n",
    "knn_clf = KNeighborsClassifier(n_neighbors=6)\n",
    "#使用模型拟合训练集数据\n",
    "knn_clf.fit(X_train, y_train)\n",
    "#查看模型在训练集和验证集中的准确率\n",
    "print('训练集准确率：%.2f'%knn_clf.score(X_train, y_train))\n",
    "print('验证集准确率：%.2f'%knn_clf.score(X_test, y_test))"
   ]
  },
  {
   "cell_type": "code",
   "execution_count": 39,
   "metadata": {},
   "outputs": [
    {
     "data": {
      "text/plain": [
       "dict_keys(['data', 'target', 'feature_names', 'DESCR', 'filename'])"
      ]
     },
     "execution_count": 39,
     "metadata": {},
     "output_type": "execute_result"
    }
   ],
   "source": [
    "#载入波士顿房价数据集导入工具\n",
    "from sklearn.datasets import load_boston\n",
    "#将数据导入\n",
    "boston = load_boston()\n",
    "#查看数据集的键名\n",
    "boston.keys()"
   ]
  },
  {
   "cell_type": "code",
   "execution_count": 45,
   "metadata": {},
   "outputs": [
    {
     "data": {
      "text/plain": [
       "array(['CRIM', 'ZN', 'INDUS', 'CHAS', 'NOX', 'RM', 'AGE', 'DIS', 'RAD',\n",
       "       'TAX', 'PTRATIO', 'B', 'LSTAT'], dtype='<U7')"
      ]
     },
     "execution_count": 45,
     "metadata": {},
     "output_type": "execute_result"
    }
   ],
   "source": [
    "#查看样本的特征名称\n",
    "boston.feature_names"
   ]
  },
  {
   "cell_type": "code",
   "execution_count": 44,
   "metadata": {},
   "outputs": [
    {
     "data": {
      "text/plain": [
       "array([24. , 21.6, 34.7, 33.4, 36.2, 28.7, 22.9, 27.1, 16.5, 18.9])"
      ]
     },
     "execution_count": 44,
     "metadata": {},
     "output_type": "execute_result"
    }
   ],
   "source": [
    "#选取前十套房屋，查看售价\n",
    "boston.target[:10]"
   ]
  },
  {
   "cell_type": "code",
   "execution_count": 46,
   "metadata": {},
   "outputs": [
    {
     "data": {
      "text/plain": [
       "(379, 13)"
      ]
     },
     "execution_count": 46,
     "metadata": {},
     "output_type": "execute_result"
    }
   ],
   "source": [
    "#将样本特征和售价赋值给X，y\n",
    "X, y = boston.data, boston.target\n",
    "#使用train_test_split拆分为训练集和验证集\n",
    "X_train, X_test, y_train, y_test =\\\n",
    "train_test_split(X, y)\n",
    "#查看拆分的结果\n",
    "X_train.shape"
   ]
  },
  {
   "cell_type": "code",
   "execution_count": 48,
   "metadata": {},
   "outputs": [
    {
     "name": "stdout",
     "output_type": "stream",
     "text": [
      "训练集准确率：0.71\n",
      "验证集准确率：0.50\n"
     ]
    }
   ],
   "source": [
    "#导入KNN回归算法\n",
    "from sklearn.neighbors import KNeighborsRegressor\n",
    "#创建一个实例，参数保持默认\n",
    "knn_reg = KNeighborsRegressor()\n",
    "#拟合训练集数据\n",
    "knn_reg.fit(X_train, y_train)\n",
    "#查看模型在训练集和验证集的性能表现\n",
    "print('训练集准确率：%.2f'%knn_reg.score(X_train, y_train))\n",
    "print('验证集准确率：%.2f'%knn_reg.score(X_test, y_test))"
   ]
  },
  {
   "cell_type": "code",
   "execution_count": 50,
   "metadata": {},
   "outputs": [
    {
     "name": "stderr",
     "output_type": "stream",
     "text": [
      "/Library/Frameworks/Python.framework/Versions/3.6/lib/python3.6/site-packages/sklearn/model_selection/_search.py:814: DeprecationWarning: The default of the `iid` parameter will change from True to False in version 0.22 and will be removed in 0.24. This will change numeric results when test-set sizes are unequal.\n",
      "  DeprecationWarning)\n"
     ]
    },
    {
     "data": {
      "text/plain": [
       "{'n_neighbors': 10}"
      ]
     },
     "execution_count": 50,
     "metadata": {},
     "output_type": "execute_result"
    }
   ],
   "source": [
    "#这次让n_neighbors参数从1到20遍历\n",
    "n_neighbors = tuple(range(1,21,1))\n",
    "#创建KNN回归的网格搜索实例\n",
    "cv_reg = GridSearchCV(estimator = KNeighborsRegressor(),\n",
    "                     param_grid = {'n_neighbors':n_neighbors},\n",
    "                     cv = 5)\n",
    "#用网格搜索拟合数据集\n",
    "cv_reg.fit(X, y)\n",
    "#返回最佳参数\n",
    "cv_reg.best_params_"
   ]
  },
  {
   "cell_type": "code",
   "execution_count": 53,
   "metadata": {},
   "outputs": [
    {
     "data": {
      "text/plain": [
       "0.98"
      ]
     },
     "execution_count": 53,
     "metadata": {},
     "output_type": "execute_result"
    }
   ],
   "source": [
    "#查看最佳参数对应的最佳模型R平方分数\n",
    "cv.best_score_"
   ]
  },
  {
   "cell_type": "markdown",
   "metadata": {},
   "source": [
    "3.3.1 基于机器学习的简单交易策略"
   ]
  },
  {
   "cell_type": "code",
   "execution_count": 54,
   "metadata": {
    "collapsed": true
   },
   "outputs": [],
   "source": [
    "#导入Pandas\n",
    "import pandas as pd\n",
    "#导入金融数据获取模块datareader\n",
    "import pandas_datareader.data as web\n",
    "#导入numpy，一会儿会用到\n",
    "import numpy as np"
   ]
  },
  {
   "cell_type": "code",
   "execution_count": 55,
   "metadata": {
    "collapsed": true
   },
   "outputs": [],
   "source": [
    "#首先我们来定义一个函数，用来获取数据\n",
    "#传入的三个参数分别是开始日期，结束日期和输出的文件名\n",
    "def load_stock(start_date, end_date, output_file):\n",
    "    #首先让程序尝试读取已下载并保存的文件\n",
    "    try:\n",
    "        df = pd.read_pickle(output_file)\n",
    "        #如果文件已存在，则打印载入股票数据文件完毕\n",
    "        print('载入股票数据文件完毕')\n",
    "    #如果没有找到文件，则重新进行下载\n",
    "    except FileNotFoundError:\n",
    "        print('文件未找到，重新下载中')\n",
    "        #这里制定下载中国平安（601318）的交易数据\n",
    "        #下载源为yahoo\n",
    "        df = web.DataReader('601318.SS','yahoo', start_date, end_date)\n",
    "        #下载成功后保存为pickle文件\n",
    "        df.to_pickle(output_file)\n",
    "        #并通知我们下载完成\n",
    "        print('下载完成')\n",
    "    #最后将下载的数据表进行返回\n",
    "    return df"
   ]
  },
  {
   "cell_type": "code",
   "execution_count": 57,
   "metadata": {},
   "outputs": [
    {
     "name": "stdout",
     "output_type": "stream",
     "text": [
      "文件未找到，重新下载中\n",
      "下载完成\n"
     ]
    }
   ],
   "source": [
    "#下面使用我们定义好的函数来获取中国平安的交易数据\n",
    "#获取三年的数据，从2017年3月9日至2020年的3月5日\n",
    "#保存为名为601318的pickle文件\n",
    "zgpa = load_stock(start_date = '2017-03-09', \n",
    "                  end_date = '2020-03-05',\n",
    "                 output_file = '601318.pkl')"
   ]
  },
  {
   "cell_type": "code",
   "execution_count": 58,
   "metadata": {},
   "outputs": [
    {
     "data": {
      "text/html": [
       "<div>\n",
       "<style scoped>\n",
       "    .dataframe tbody tr th:only-of-type {\n",
       "        vertical-align: middle;\n",
       "    }\n",
       "\n",
       "    .dataframe tbody tr th {\n",
       "        vertical-align: top;\n",
       "    }\n",
       "\n",
       "    .dataframe thead th {\n",
       "        text-align: right;\n",
       "    }\n",
       "</style>\n",
       "<table border=\"1\" class=\"dataframe\">\n",
       "  <thead>\n",
       "    <tr style=\"text-align: right;\">\n",
       "      <th></th>\n",
       "      <th>High</th>\n",
       "      <th>Low</th>\n",
       "      <th>Open</th>\n",
       "      <th>Close</th>\n",
       "      <th>Volume</th>\n",
       "      <th>Adj Close</th>\n",
       "    </tr>\n",
       "    <tr>\n",
       "      <th>Date</th>\n",
       "      <th></th>\n",
       "      <th></th>\n",
       "      <th></th>\n",
       "      <th></th>\n",
       "      <th></th>\n",
       "      <th></th>\n",
       "    </tr>\n",
       "  </thead>\n",
       "  <tbody>\n",
       "    <tr>\n",
       "      <th>2017-03-09</th>\n",
       "      <td>35.799999</td>\n",
       "      <td>35.500000</td>\n",
       "      <td>35.770000</td>\n",
       "      <td>35.779999</td>\n",
       "      <td>37796652.0</td>\n",
       "      <td>33.418541</td>\n",
       "    </tr>\n",
       "    <tr>\n",
       "      <th>2017-03-10</th>\n",
       "      <td>35.770000</td>\n",
       "      <td>35.580002</td>\n",
       "      <td>35.709999</td>\n",
       "      <td>35.599998</td>\n",
       "      <td>20744676.0</td>\n",
       "      <td>33.250423</td>\n",
       "    </tr>\n",
       "    <tr>\n",
       "      <th>2017-03-13</th>\n",
       "      <td>36.040001</td>\n",
       "      <td>35.560001</td>\n",
       "      <td>35.599998</td>\n",
       "      <td>35.970001</td>\n",
       "      <td>35999002.0</td>\n",
       "      <td>33.596004</td>\n",
       "    </tr>\n",
       "    <tr>\n",
       "      <th>2017-03-14</th>\n",
       "      <td>36.130001</td>\n",
       "      <td>35.810001</td>\n",
       "      <td>35.990002</td>\n",
       "      <td>35.939999</td>\n",
       "      <td>27696420.0</td>\n",
       "      <td>33.567982</td>\n",
       "    </tr>\n",
       "    <tr>\n",
       "      <th>2017-03-15</th>\n",
       "      <td>36.000000</td>\n",
       "      <td>35.759998</td>\n",
       "      <td>35.880001</td>\n",
       "      <td>35.959999</td>\n",
       "      <td>26872050.0</td>\n",
       "      <td>33.586662</td>\n",
       "    </tr>\n",
       "  </tbody>\n",
       "</table>\n",
       "</div>"
      ],
      "text/plain": [
       "                 High        Low       Open      Close      Volume  Adj Close\n",
       "Date                                                                         \n",
       "2017-03-09  35.799999  35.500000  35.770000  35.779999  37796652.0  33.418541\n",
       "2017-03-10  35.770000  35.580002  35.709999  35.599998  20744676.0  33.250423\n",
       "2017-03-13  36.040001  35.560001  35.599998  35.970001  35999002.0  33.596004\n",
       "2017-03-14  36.130001  35.810001  35.990002  35.939999  27696420.0  33.567982\n",
       "2017-03-15  36.000000  35.759998  35.880001  35.959999  26872050.0  33.586662"
      ]
     },
     "execution_count": 58,
     "metadata": {},
     "output_type": "execute_result"
    }
   ],
   "source": [
    "#查看一下数据的前五行\n",
    "zgpa.head()"
   ]
  },
  {
   "cell_type": "code",
   "execution_count": 60,
   "metadata": {
    "collapsed": true
   },
   "outputs": [],
   "source": [
    "#下面我们来定义一个用于分类的函数，给数据表增加三个字段\n",
    "#首先是开盘价减收盘价，命名为‘Open-Close’\n",
    "#其次是最高价减最低价，命名为‘High-Low’\n",
    "def classification_tc(df):\n",
    "    df['Open-Close'] = df['Open'] - df['Close']\n",
    "    df['High-Low'] = df['High'] - df['Low']\n",
    "    #在添加一个target字段，如果次日收盘价高于当日收盘价，则标记为1，反之为-1\n",
    "    df['target'] = np.where(df['Close'].shift(-1)>df['Close'], 1, -1)\n",
    "    #去掉有空值的行\n",
    "    df = df.dropna()\n",
    "    #将‘Open-Close’和‘High-Low’作为数据集的特征\n",
    "    X = df[['Open-Close', 'High-Low']]\n",
    "    #将target赋值给y\n",
    "    y = df['target']\n",
    "    #将处理好的数据表以及X与y进行返回\n",
    "    return(df,X,y)"
   ]
  },
  {
   "cell_type": "code",
   "execution_count": 61,
   "metadata": {
    "collapsed": true
   },
   "outputs": [],
   "source": [
    "#下面定义一个用于回归的函数\n",
    "#特征的添加和分类函数类似\n",
    "#只不过target字段改为次日收盘价减去当日收盘价\n",
    "def regression_tc(df):\n",
    "    df['Open-Close'] = df['Open'] - df['Close']\n",
    "    df['High-Low'] = df['High'] - df['Low']\n",
    "    df['target'] = df['Close'].shift(-1) - df['Close']\n",
    "    df = df.dropna()\n",
    "    X = df[['Open-Close', 'High-Low']]\n",
    "    y = df['target']\n",
    "    #将处理好的数据表以及X与y进行返回\n",
    "    return(df,X,y)"
   ]
  },
  {
   "cell_type": "code",
   "execution_count": null,
   "metadata": {
    "collapsed": true
   },
   "outputs": [],
   "source": []
  }
 ],
 "metadata": {
  "kernelspec": {
   "display_name": "Python 3",
   "language": "python",
   "name": "python3"
  },
  "language_info": {
   "codemirror_mode": {
    "name": "ipython",
    "version": 3
   },
   "file_extension": ".py",
   "mimetype": "text/x-python",
   "name": "python",
   "nbconvert_exporter": "python",
   "pygments_lexer": "ipython3",
   "version": "3.6.2"
  }
 },
 "nbformat": 4,
 "nbformat_minor": 2
}
