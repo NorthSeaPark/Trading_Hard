{
 "cells": [
  {
   "cell_type": "code",
   "execution_count": 30,
   "id": "efcd1e39",
   "metadata": {},
   "outputs": [],
   "source": [
    "import jqdatasdk as jq\n",
    "from jqdatasdk import finance\n",
    "jq.auth('13811815618','Shuzi307104!')"
   ]
  },
  {
   "cell_type": "code",
   "execution_count": 42,
   "id": "26fb70d5",
   "metadata": {},
   "outputs": [],
   "source": [
    "#首先导入线性回归模型\n",
    "from sklearn.linear_model import LinearRegression\n",
    "#导入数据集拆分工具\n",
    "from sklearn.model_selection import train_test_split\n",
    "#为了演示，我们使用scikit-learn内置的数据集生成工具\n",
    "from sklearn.datasets import make_regression\n",
    "#导入numpy和pandas\n",
    "import numpy as np\n",
    "import pandas as pd\n",
    "#导入画图工具\n",
    "import matplotlib.pyplot as plt\n",
    "import seaborn as sns"
   ]
  },
  {
   "cell_type": "code",
   "execution_count": 31,
   "id": "2b84b986",
   "metadata": {},
   "outputs": [],
   "source": [
    "stocks = jq.get_index_stocks('000016.XSHG')"
   ]
  },
  {
   "cell_type": "code",
   "execution_count": 35,
   "id": "338563e6",
   "metadata": {},
   "outputs": [],
   "source": [
    "q = jq.query(jq.valuation.code,\n",
    "          #市值\n",
    "          jq.valuation.market_cap,\n",
    "          #净资产，用总资产减去总负债\n",
    "         jq.balance.total_assets - jq.balance.total_liability,\n",
    "          #再来一个资产负债率的倒数\n",
    "         jq.balance.total_assets/jq.balance.total_liability,\n",
    "          #把净利润也考虑进来\n",
    "         jq.income.net_profit,\n",
    "          #还有年度收入增长\n",
    "         jq.indicator.inc_revenue_year_on_year,\n",
    "          #研发费用\n",
    "         jq.balance.development_expenditure\n",
    "         ).filter(jq.valuation.code.in_(stocks))"
   ]
  },
  {
   "cell_type": "code",
   "execution_count": 37,
   "id": "68a63c3e",
   "metadata": {},
   "outputs": [],
   "source": [
    "#将这些数据存入一个数据表中\n",
    "df = jq.get_fundamentals(q)"
   ]
  },
  {
   "cell_type": "code",
   "execution_count": 38,
   "id": "f8aa0fcf",
   "metadata": {},
   "outputs": [],
   "source": [
    "df.columns = ['code', \n",
    "              'mcap', \n",
    "              'na', \n",
    "              '1/DA ratio', \n",
    "              'net income', \n",
    "              'growth', \n",
    "              'RD']"
   ]
  },
  {
   "cell_type": "code",
   "execution_count": 39,
   "id": "e2894f6c",
   "metadata": {},
   "outputs": [
    {
     "data": {
      "text/html": [
       "<div>\n",
       "<style scoped>\n",
       "    .dataframe tbody tr th:only-of-type {\n",
       "        vertical-align: middle;\n",
       "    }\n",
       "\n",
       "    .dataframe tbody tr th {\n",
       "        vertical-align: top;\n",
       "    }\n",
       "\n",
       "    .dataframe thead th {\n",
       "        text-align: right;\n",
       "    }\n",
       "</style>\n",
       "<table border=\"1\" class=\"dataframe\">\n",
       "  <thead>\n",
       "    <tr style=\"text-align: right;\">\n",
       "      <th></th>\n",
       "      <th>code</th>\n",
       "      <th>mcap</th>\n",
       "      <th>na</th>\n",
       "      <th>1/DA ratio</th>\n",
       "      <th>net income</th>\n",
       "      <th>growth</th>\n",
       "      <th>RD</th>\n",
       "    </tr>\n",
       "  </thead>\n",
       "  <tbody>\n",
       "    <tr>\n",
       "      <th>0</th>\n",
       "      <td>600010.XSHG</td>\n",
       "      <td>911.7007</td>\n",
       "      <td>6.198162e+10</td>\n",
       "      <td>1.721479</td>\n",
       "      <td>-1.407279e+09</td>\n",
       "      <td>-30.21</td>\n",
       "      <td>NaN</td>\n",
       "    </tr>\n",
       "    <tr>\n",
       "      <th>1</th>\n",
       "      <td>600028.XSHG</td>\n",
       "      <td>5554.6709</td>\n",
       "      <td>9.255369e+11</td>\n",
       "      <td>1.822713</td>\n",
       "      <td>1.339400e+10</td>\n",
       "      <td>13.41</td>\n",
       "      <td>NaN</td>\n",
       "    </tr>\n",
       "    <tr>\n",
       "      <th>2</th>\n",
       "      <td>600030.XSHG</td>\n",
       "      <td>3051.5505</td>\n",
       "      <td>2.538121e+11</td>\n",
       "      <td>1.234698</td>\n",
       "      <td>5.587781e+09</td>\n",
       "      <td>-25.66</td>\n",
       "      <td>NaN</td>\n",
       "    </tr>\n",
       "    <tr>\n",
       "      <th>3</th>\n",
       "      <td>600031.XSHG</td>\n",
       "      <td>1362.3231</td>\n",
       "      <td>6.596622e+10</td>\n",
       "      <td>1.746315</td>\n",
       "      <td>9.901590e+08</td>\n",
       "      <td>-8.27</td>\n",
       "      <td>531280000.0</td>\n",
       "    </tr>\n",
       "    <tr>\n",
       "      <th>4</th>\n",
       "      <td>600036.XSHG</td>\n",
       "      <td>8907.6494</td>\n",
       "      <td>9.277664e+11</td>\n",
       "      <td>1.105676</td>\n",
       "      <td>3.797700e+10</td>\n",
       "      <td>3.73</td>\n",
       "      <td>NaN</td>\n",
       "    </tr>\n",
       "  </tbody>\n",
       "</table>\n",
       "</div>"
      ],
      "text/plain": [
       "          code       mcap            na  1/DA ratio    net income  growth  \\\n",
       "0  600010.XSHG   911.7007  6.198162e+10    1.721479 -1.407279e+09  -30.21   \n",
       "1  600028.XSHG  5554.6709  9.255369e+11    1.822713  1.339400e+10   13.41   \n",
       "2  600030.XSHG  3051.5505  2.538121e+11    1.234698  5.587781e+09  -25.66   \n",
       "3  600031.XSHG  1362.3231  6.596622e+10    1.746315  9.901590e+08   -8.27   \n",
       "4  600036.XSHG  8907.6494  9.277664e+11    1.105676  3.797700e+10    3.73   \n",
       "\n",
       "            RD  \n",
       "0          NaN  \n",
       "1          NaN  \n",
       "2          NaN  \n",
       "3  531280000.0  \n",
       "4          NaN  "
      ]
     },
     "execution_count": 39,
     "metadata": {},
     "output_type": "execute_result"
    }
   ],
   "source": [
    "df.head()"
   ]
  },
  {
   "cell_type": "code",
   "execution_count": 40,
   "id": "cb52549d",
   "metadata": {},
   "outputs": [],
   "source": [
    "#把股票代码做成数据表的index\n",
    "df.index = df['code'].values\n",
    "#然后把原来代码这一列丢弃掉，防止它参与计算\n",
    "df = df.drop('code', axis = 1)\n",
    "#把除去市值之外的数据作为特征，赋值给X\n",
    "X = df.drop('mcap', axis = 1)\n",
    "#市值这一列作为目标值，赋值给y\n",
    "y = df['mcap']\n",
    "#用0来填补数据中的空值\n",
    "X = X.fillna(0)\n",
    "y = y.fillna(0)"
   ]
  },
  {
   "cell_type": "code",
   "execution_count": 43,
   "id": "3cfdacd6",
   "metadata": {},
   "outputs": [],
   "source": [
    "#使用线性回归来拟合数据\n",
    "reg = LinearRegression().fit(X,y)"
   ]
  },
  {
   "cell_type": "code",
   "execution_count": 44,
   "id": "1abe4aae",
   "metadata": {},
   "outputs": [],
   "source": [
    "predict = pd.DataFrame(reg.predict(X), \n",
    "                       #保持和y相同的index，也就是股票的代码\n",
    "                       index = y.index,\n",
    "                       #设置一个列名，这个根据你个人爱好就好\n",
    "                       columns = ['predict_mcap'])"
   ]
  },
  {
   "cell_type": "code",
   "execution_count": 45,
   "id": "05ea8508",
   "metadata": {},
   "outputs": [
    {
     "data": {
      "text/html": [
       "<div>\n",
       "<style scoped>\n",
       "    .dataframe tbody tr th:only-of-type {\n",
       "        vertical-align: middle;\n",
       "    }\n",
       "\n",
       "    .dataframe tbody tr th {\n",
       "        vertical-align: top;\n",
       "    }\n",
       "\n",
       "    .dataframe thead th {\n",
       "        text-align: right;\n",
       "    }\n",
       "</style>\n",
       "<table border=\"1\" class=\"dataframe\">\n",
       "  <thead>\n",
       "    <tr style=\"text-align: right;\">\n",
       "      <th></th>\n",
       "      <th>predict_mcap</th>\n",
       "    </tr>\n",
       "  </thead>\n",
       "  <tbody>\n",
       "    <tr>\n",
       "      <th>600010.XSHG</th>\n",
       "      <td>1583.077326</td>\n",
       "    </tr>\n",
       "    <tr>\n",
       "      <th>600028.XSHG</th>\n",
       "      <td>4849.453777</td>\n",
       "    </tr>\n",
       "    <tr>\n",
       "      <th>600030.XSHG</th>\n",
       "      <td>2434.954287</td>\n",
       "    </tr>\n",
       "    <tr>\n",
       "      <th>600031.XSHG</th>\n",
       "      <td>1927.684972</td>\n",
       "    </tr>\n",
       "    <tr>\n",
       "      <th>600036.XSHG</th>\n",
       "      <td>6675.836354</td>\n",
       "    </tr>\n",
       "  </tbody>\n",
       "</table>\n",
       "</div>"
      ],
      "text/plain": [
       "             predict_mcap\n",
       "600010.XSHG   1583.077326\n",
       "600028.XSHG   4849.453777\n",
       "600030.XSHG   2434.954287\n",
       "600031.XSHG   1927.684972\n",
       "600036.XSHG   6675.836354"
      ]
     },
     "execution_count": 45,
     "metadata": {},
     "output_type": "execute_result"
    }
   ],
   "source": [
    "predict.head()"
   ]
  },
  {
   "cell_type": "code",
   "execution_count": 46,
   "id": "2d99d4bc",
   "metadata": {},
   "outputs": [
    {
     "data": {
      "text/html": [
       "<div>\n",
       "<style scoped>\n",
       "    .dataframe tbody tr th:only-of-type {\n",
       "        vertical-align: middle;\n",
       "    }\n",
       "\n",
       "    .dataframe tbody tr th {\n",
       "        vertical-align: top;\n",
       "    }\n",
       "\n",
       "    .dataframe thead th {\n",
       "        text-align: right;\n",
       "    }\n",
       "</style>\n",
       "<table border=\"1\" class=\"dataframe\">\n",
       "  <thead>\n",
       "    <tr style=\"text-align: right;\">\n",
       "      <th></th>\n",
       "      <th>diff</th>\n",
       "    </tr>\n",
       "  </thead>\n",
       "  <tbody>\n",
       "    <tr>\n",
       "      <th>603986.XSHG</th>\n",
       "      <td>-4091.684097</td>\n",
       "    </tr>\n",
       "    <tr>\n",
       "      <th>601919.XSHG</th>\n",
       "      <td>-3658.837312</td>\n",
       "    </tr>\n",
       "    <tr>\n",
       "      <th>600276.XSHG</th>\n",
       "      <td>-2952.746799</td>\n",
       "    </tr>\n",
       "    <tr>\n",
       "      <th>601288.XSHG</th>\n",
       "      <td>-2448.095991</td>\n",
       "    </tr>\n",
       "    <tr>\n",
       "      <th>601668.XSHG</th>\n",
       "      <td>-2022.097935</td>\n",
       "    </tr>\n",
       "    <tr>\n",
       "      <th>600438.XSHG</th>\n",
       "      <td>-1848.361159</td>\n",
       "    </tr>\n",
       "    <tr>\n",
       "      <th>600585.XSHG</th>\n",
       "      <td>-1751.292565</td>\n",
       "    </tr>\n",
       "    <tr>\n",
       "      <th>601166.XSHG</th>\n",
       "      <td>-1682.398918</td>\n",
       "    </tr>\n",
       "    <tr>\n",
       "      <th>600436.XSHG</th>\n",
       "      <td>-1642.368608</td>\n",
       "    </tr>\n",
       "    <tr>\n",
       "      <th>603799.XSHG</th>\n",
       "      <td>-1615.539028</td>\n",
       "    </tr>\n",
       "  </tbody>\n",
       "</table>\n",
       "</div>"
      ],
      "text/plain": [
       "                    diff\n",
       "603986.XSHG -4091.684097\n",
       "601919.XSHG -3658.837312\n",
       "600276.XSHG -2952.746799\n",
       "601288.XSHG -2448.095991\n",
       "601668.XSHG -2022.097935\n",
       "600438.XSHG -1848.361159\n",
       "600585.XSHG -1751.292565\n",
       "601166.XSHG -1682.398918\n",
       "600436.XSHG -1642.368608\n",
       "603799.XSHG -1615.539028"
      ]
     },
     "execution_count": 46,
     "metadata": {},
     "output_type": "execute_result"
    }
   ],
   "source": [
    "#使用真实的市值，减去模型预测的市值\n",
    "diff = df['mcap'] - predict['predict_mcap']\n",
    "#将两者的差存入一个数据表，index还是用股票的代码\n",
    "diff = pd.DataFrame(diff, index = y.index, columns = ['diff'])\n",
    "#将该数据表中的值，按生序进行排列\n",
    "diff = diff.sort_values(by = 'diff', ascending = True)\n",
    "#找到市值被低估最多的10只股票\n",
    "diff.head(10)"
   ]
  },
  {
   "cell_type": "code",
   "execution_count": null,
   "id": "698d7e84",
   "metadata": {},
   "outputs": [],
   "source": []
  }
 ],
 "metadata": {
  "kernelspec": {
   "display_name": "Python 3",
   "language": "python",
   "name": "python3"
  },
  "language_info": {
   "codemirror_mode": {
    "name": "ipython",
    "version": 3
   },
   "file_extension": ".py",
   "mimetype": "text/x-python",
   "name": "python",
   "nbconvert_exporter": "python",
   "pygments_lexer": "ipython3",
   "version": "3.8.8"
  }
 },
 "nbformat": 4,
 "nbformat_minor": 5
}
