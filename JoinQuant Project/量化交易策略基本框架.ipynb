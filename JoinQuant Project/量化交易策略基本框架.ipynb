{
 "cells": [
  {
   "cell_type": "code",
   "execution_count": 1,
   "id": "7e62cfbf",
   "metadata": {},
   "outputs": [],
   "source": [
    "import jqdatasdk\n",
    "from jqdatasdk import finance"
   ]
  },
  {
   "cell_type": "code",
   "execution_count": 2,
   "id": "9ae28500",
   "metadata": {},
   "outputs": [
    {
     "name": "stdout",
     "output_type": "stream",
     "text": [
      "auth success \n"
     ]
    }
   ],
   "source": [
    "jqdatasdk.auth('13811815618','Shuzi307104!')"
   ]
  },
  {
   "cell_type": "markdown",
   "id": "9e75d979",
   "metadata": {},
   "source": [
    "一个简单的策略\n",
    "初始化：选定要交易的股票为平安银行\n",
    "每天循环：买100股的平安银行"
   ]
  },
  {
   "cell_type": "code",
   "execution_count": null,
   "id": "84282c97",
   "metadata": {},
   "outputs": [],
   "source": [
    "#   def initialize(context):\n",
    "#       这里是用来写初始化代码的地方,例子中就是选定要交易的股票为平安银行\n",
    "\n",
    "#   def handle_data(context,data):\n",
    "#       这里是用来写周期循环代码的地方,例子中就是买100股的平安银行\n",
    "\n",
    "def initialize(context):\n",
    "    run_daily(period,time='every_bar')\n",
    "    g.security = '000001.XSHE'\n",
    "\n",
    "def period(context):\n",
    "    order(g.security, 100)"
   ]
  }
 ],
 "metadata": {
  "kernelspec": {
   "display_name": "Python 3",
   "language": "python",
   "name": "python3"
  },
  "language_info": {
   "codemirror_mode": {
    "name": "ipython",
    "version": 3
   },
   "file_extension": ".py",
   "mimetype": "text/x-python",
   "name": "python",
   "nbconvert_exporter": "python",
   "pygments_lexer": "ipython3",
   "version": "3.8.8"
  }
 },
 "nbformat": 4,
 "nbformat_minor": 5
}
