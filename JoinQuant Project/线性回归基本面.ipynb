{
 "cells": [
  {
   "cell_type": "code",
   "execution_count": 30,
   "id": "d1483c52",
   "metadata": {},
   "outputs": [],
   "source": [
    "import jqdatasdk as jq\n",
    "from jqdatasdk import finance\n",
    "jq.auth('13811815618','Shuzi307104!')"
   ]
  },
  {
   "cell_type": "code",
   "execution_count": 31,
   "id": "6beb1b3b",
   "metadata": {},
   "outputs": [],
   "source": [
    "stocks = jq.get_index_stocks('000016.XSHG')"
   ]
  },
  {
   "cell_type": "code",
   "execution_count": 35,
   "id": "22eff4b7",
   "metadata": {},
   "outputs": [],
   "source": [
    "q = jq.query(jq.valuation.code,\n",
    "          #市值\n",
    "          jq.valuation.market_cap,\n",
    "          #净资产，用总资产减去总负债\n",
    "         jq.balance.total_assets - jq.balance.total_liability,\n",
    "          #再来一个资产负债率的倒数\n",
    "         jq.balance.total_assets/jq.balance.total_liability,\n",
    "          #把净利润也考虑进来\n",
    "         jq.income.net_profit,\n",
    "          #还有年度收入增长\n",
    "         jq.indicator.inc_revenue_year_on_year,\n",
    "          #研发费用\n",
    "         jq.balance.development_expenditure\n",
    "         ).filter(jq.valuation.code.in_(stocks))"
   ]
  },
  {
   "cell_type": "code",
   "execution_count": 37,
   "id": "815ce615",
   "metadata": {},
   "outputs": [],
   "source": [
    "#将这些数据存入一个数据表中\n",
    "df = jq.get_fundamentals(q)"
   ]
  },
  {
   "cell_type": "code",
   "execution_count": 38,
   "id": "a05a4910",
   "metadata": {},
   "outputs": [],
   "source": [
    "df.columns = ['code', \n",
    "              'mcap', \n",
    "              'na', \n",
    "              '1/DA ratio', \n",
    "              'net income', \n",
    "              'growth', \n",
    "              'RD']"
   ]
  },
  {
   "cell_type": "code",
   "execution_count": 39,
   "id": "6e59e671",
   "metadata": {},
   "outputs": [
    {
     "data": {
      "text/html": [
       "<div>\n",
       "<style scoped>\n",
       "    .dataframe tbody tr th:only-of-type {\n",
       "        vertical-align: middle;\n",
       "    }\n",
       "\n",
       "    .dataframe tbody tr th {\n",
       "        vertical-align: top;\n",
       "    }\n",
       "\n",
       "    .dataframe thead th {\n",
       "        text-align: right;\n",
       "    }\n",
       "</style>\n",
       "<table border=\"1\" class=\"dataframe\">\n",
       "  <thead>\n",
       "    <tr style=\"text-align: right;\">\n",
       "      <th></th>\n",
       "      <th>code</th>\n",
       "      <th>mcap</th>\n",
       "      <th>na</th>\n",
       "      <th>1/DA ratio</th>\n",
       "      <th>net income</th>\n",
       "      <th>growth</th>\n",
       "      <th>RD</th>\n",
       "    </tr>\n",
       "  </thead>\n",
       "  <tbody>\n",
       "    <tr>\n",
       "      <th>0</th>\n",
       "      <td>600010.XSHG</td>\n",
       "      <td>911.7007</td>\n",
       "      <td>6.198162e+10</td>\n",
       "      <td>1.721479</td>\n",
       "      <td>-1.407279e+09</td>\n",
       "      <td>-30.21</td>\n",
       "      <td>NaN</td>\n",
       "    </tr>\n",
       "    <tr>\n",
       "      <th>1</th>\n",
       "      <td>600028.XSHG</td>\n",
       "      <td>5554.6709</td>\n",
       "      <td>9.255369e+11</td>\n",
       "      <td>1.822713</td>\n",
       "      <td>1.339400e+10</td>\n",
       "      <td>13.41</td>\n",
       "      <td>NaN</td>\n",
       "    </tr>\n",
       "    <tr>\n",
       "      <th>2</th>\n",
       "      <td>600030.XSHG</td>\n",
       "      <td>3051.5505</td>\n",
       "      <td>2.538121e+11</td>\n",
       "      <td>1.234698</td>\n",
       "      <td>5.587781e+09</td>\n",
       "      <td>-25.66</td>\n",
       "      <td>NaN</td>\n",
       "    </tr>\n",
       "    <tr>\n",
       "      <th>3</th>\n",
       "      <td>600031.XSHG</td>\n",
       "      <td>1362.3231</td>\n",
       "      <td>6.596622e+10</td>\n",
       "      <td>1.746315</td>\n",
       "      <td>9.901590e+08</td>\n",
       "      <td>-8.27</td>\n",
       "      <td>531280000.0</td>\n",
       "    </tr>\n",
       "    <tr>\n",
       "      <th>4</th>\n",
       "      <td>600036.XSHG</td>\n",
       "      <td>8907.6494</td>\n",
       "      <td>9.277664e+11</td>\n",
       "      <td>1.105676</td>\n",
       "      <td>3.797700e+10</td>\n",
       "      <td>3.73</td>\n",
       "      <td>NaN</td>\n",
       "    </tr>\n",
       "  </tbody>\n",
       "</table>\n",
       "</div>"
      ],
      "text/plain": [
       "          code       mcap            na  1/DA ratio    net income  growth  \\\n",
       "0  600010.XSHG   911.7007  6.198162e+10    1.721479 -1.407279e+09  -30.21   \n",
       "1  600028.XSHG  5554.6709  9.255369e+11    1.822713  1.339400e+10   13.41   \n",
       "2  600030.XSHG  3051.5505  2.538121e+11    1.234698  5.587781e+09  -25.66   \n",
       "3  600031.XSHG  1362.3231  6.596622e+10    1.746315  9.901590e+08   -8.27   \n",
       "4  600036.XSHG  8907.6494  9.277664e+11    1.105676  3.797700e+10    3.73   \n",
       "\n",
       "            RD  \n",
       "0          NaN  \n",
       "1          NaN  \n",
       "2          NaN  \n",
       "3  531280000.0  \n",
       "4          NaN  "
      ]
     },
     "execution_count": 39,
     "metadata": {},
     "output_type": "execute_result"
    }
   ],
   "source": [
    "df.head()"
   ]
  },
  {
   "cell_type": "code",
   "execution_count": null,
   "id": "dbd32587",
   "metadata": {},
   "outputs": [],
   "source": []
  }
 ],
 "metadata": {
  "kernelspec": {
   "display_name": "Python 3",
   "language": "python",
   "name": "python3"
  },
  "language_info": {
   "codemirror_mode": {
    "name": "ipython",
    "version": 3
   },
   "file_extension": ".py",
   "mimetype": "text/x-python",
   "name": "python",
   "nbconvert_exporter": "python",
   "pygments_lexer": "ipython3",
   "version": "3.8.8"
  }
 },
 "nbformat": 4,
 "nbformat_minor": 5
}
